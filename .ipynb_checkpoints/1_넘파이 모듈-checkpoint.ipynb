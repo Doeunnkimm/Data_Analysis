{
 "cells": [
  {
   "cell_type": "markdown",
   "id": "587a5d24",
   "metadata": {},
   "source": [
    "# 1. Numpy"
   ]
  },
  {
   "cell_type": "markdown",
   "id": "fab6d6c8",
   "metadata": {},
   "source": [
    "- 수학, 과학 계산용 패키지\n",
    "- 성능: 파이썬의 리스트보다 빠름\n",
    "- 메모리 사이즈: 파이썬의 리스트보다 작은 메모리를 사용\n",
    "- 빌트인 함수: 선형함수, 통계관련 여러 함수들을 내장"
   ]
  },
  {
   "cell_type": "code",
   "execution_count": 3,
   "id": "c7a4c7c2",
   "metadata": {},
   "outputs": [],
   "source": [
    "import numpy"
   ]
  },
  {
   "cell_type": "code",
   "execution_count": 5,
   "id": "98612e4d",
   "metadata": {},
   "outputs": [
    {
     "data": {
      "text/plain": [
       "<module 'numpy' from 'C:\\\\Users\\\\82103\\\\anaconda3\\\\lib\\\\site-packages\\\\numpy\\\\__init__.py'>"
      ]
     },
     "execution_count": 5,
     "metadata": {},
     "output_type": "execute_result"
    }
   ],
   "source": [
    "numpy"
   ]
  },
  {
   "cell_type": "markdown",
   "id": "f2da4e36",
   "metadata": {},
   "source": [
    "- 실행하게 되면 다른 사람이 만들어 놓은 모듈이 설치되었다는 것을 알려줌"
   ]
  },
  {
   "cell_type": "code",
   "execution_count": 6,
   "id": "17f41785",
   "metadata": {},
   "outputs": [],
   "source": [
    "# 별칭을 주자(as)\n",
    "import numpy as np"
   ]
  },
  {
   "cell_type": "code",
   "execution_count": 7,
   "id": "ca38a619",
   "metadata": {},
   "outputs": [
    {
     "data": {
      "text/plain": [
       "<module 'numpy' from 'C:\\\\Users\\\\82103\\\\anaconda3\\\\lib\\\\site-packages\\\\numpy\\\\__init__.py'>"
      ]
     },
     "execution_count": 7,
     "metadata": {},
     "output_type": "execute_result"
    }
   ],
   "source": [
    "np"
   ]
  },
  {
   "cell_type": "markdown",
   "id": "28b381e3",
   "metadata": {},
   "source": [
    "- numpy와 객체가 똑같음을 확인할 수 있음"
   ]
  },
  {
   "cell_type": "markdown",
   "id": "af7f11fa",
   "metadata": {},
   "source": [
    "## 1-1. array(배열)"
   ]
  },
  {
   "cell_type": "markdown",
   "id": "606522f0",
   "metadata": {},
   "source": [
    "- 여러 값들의 그룹"
   ]
  },
  {
   "cell_type": "code",
   "execution_count": 9,
   "id": "c5665971",
   "metadata": {},
   "outputs": [],
   "source": [
    "arr = np.array([1,2,3,4])"
   ]
  },
  {
   "cell_type": "code",
   "execution_count": 10,
   "id": "3acd9c1e",
   "metadata": {},
   "outputs": [
    {
     "data": {
      "text/plain": [
       "array([1, 2, 3, 4])"
      ]
     },
     "execution_count": 10,
     "metadata": {},
     "output_type": "execute_result"
    }
   ],
   "source": [
    "arr"
   ]
  },
  {
   "cell_type": "code",
   "execution_count": 12,
   "id": "410bb559",
   "metadata": {},
   "outputs": [
    {
     "data": {
      "text/plain": [
       "numpy.ndarray"
      ]
     },
     "execution_count": 12,
     "metadata": {},
     "output_type": "execute_result"
    }
   ],
   "source": [
    "type(arr) # numpy.ndarray = n dimension array"
   ]
  },
  {
   "cell_type": "code",
   "execution_count": 13,
   "id": "f767d341",
   "metadata": {},
   "outputs": [],
   "source": [
    "# 파이썬의 기본 list\n",
    "list1 = [1,2,3,4] # 1차원\n",
    "list2 = [[1,2,3,4],[5,6,7,8]] # 2차원"
   ]
  },
  {
   "cell_type": "code",
   "execution_count": 14,
   "id": "21fcf670",
   "metadata": {},
   "outputs": [
    {
     "name": "stdout",
     "output_type": "stream",
     "text": [
      "[1, 2, 3, 4]\n",
      "[[1, 2, 3, 4], [5, 6, 7, 8]]\n"
     ]
    }
   ],
   "source": [
    "print(list1)\n",
    "print(list2)"
   ]
  },
  {
   "cell_type": "code",
   "execution_count": 17,
   "id": "210f8d11",
   "metadata": {},
   "outputs": [],
   "source": [
    "# 기본 list -> ndarray (형변환)\n",
    "arr1 = np.array(list1)\n",
    "arr2 = np.array(list2)"
   ]
  },
  {
   "cell_type": "code",
   "execution_count": 18,
   "id": "5b075884",
   "metadata": {},
   "outputs": [
    {
     "name": "stdout",
     "output_type": "stream",
     "text": [
      "[1 2 3 4]\n",
      "<class 'numpy.ndarray'>\n",
      "[[1 2 3 4]\n",
      " [5 6 7 8]]\n",
      "<class 'numpy.ndarray'>\n"
     ]
    }
   ],
   "source": [
    "print(arr1)\n",
    "print(type(arr1))\n",
    "print(arr2)\n",
    "print(type(arr2))"
   ]
  },
  {
   "cell_type": "code",
   "execution_count": 19,
   "id": "ef9993db",
   "metadata": {},
   "outputs": [
    {
     "data": {
      "text/plain": [
       "(4,)"
      ]
     },
     "execution_count": 19,
     "metadata": {},
     "output_type": "execute_result"
    }
   ],
   "source": [
    "arr1.shape"
   ]
  },
  {
   "cell_type": "code",
   "execution_count": 20,
   "id": "025916f1",
   "metadata": {},
   "outputs": [
    {
     "data": {
      "text/plain": [
       "(2, 4)"
      ]
     },
     "execution_count": 20,
     "metadata": {},
     "output_type": "execute_result"
    }
   ],
   "source": [
    "arr2.shape"
   ]
  },
  {
   "cell_type": "markdown",
   "id": "fa801607",
   "metadata": {},
   "source": [
    "## 1-2 array의 data 타입"
   ]
  },
  {
   "cell_type": "markdown",
   "id": "2aa5717d",
   "metadata": {},
   "source": [
    "- ndarray는 list와 다르게 1개의 데이터 타입만 허용"
   ]
  },
  {
   "cell_type": "code",
   "execution_count": 23,
   "id": "04b24a5b",
   "metadata": {},
   "outputs": [],
   "source": [
    "# list는 서로 다른 데이터 타입도 저장 가능\n",
    "list = [1, 3.14, 'python','😍','1234',True]"
   ]
  },
  {
   "cell_type": "code",
   "execution_count": 22,
   "id": "2ce49038",
   "metadata": {},
   "outputs": [
    {
     "data": {
      "text/plain": [
       "[1, 3.14, 'python', '😍', '1234', True]"
      ]
     },
     "execution_count": 22,
     "metadata": {},
     "output_type": "execute_result"
    }
   ],
   "source": [
    "list"
   ]
  },
  {
   "cell_type": "code",
   "execution_count": 24,
   "id": "1a5bdc82",
   "metadata": {},
   "outputs": [
    {
     "data": {
      "text/plain": [
       "'😍'"
      ]
     },
     "execution_count": 24,
     "metadata": {},
     "output_type": "execute_result"
    }
   ],
   "source": [
    "# 인덱싱\n",
    "list[3]"
   ]
  },
  {
   "cell_type": "code",
   "execution_count": 25,
   "id": "787f5744",
   "metadata": {},
   "outputs": [],
   "source": [
    "arr = np.array([1,2,3,4])"
   ]
  },
  {
   "cell_type": "code",
   "execution_count": 26,
   "id": "fd43eb10",
   "metadata": {},
   "outputs": [
    {
     "data": {
      "text/plain": [
       "array([1, 2, 3, 4])"
      ]
     },
     "execution_count": 26,
     "metadata": {},
     "output_type": "execute_result"
    }
   ],
   "source": [
    "arr"
   ]
  },
  {
   "cell_type": "code",
   "execution_count": 27,
   "id": "3f2899f7",
   "metadata": {},
   "outputs": [],
   "source": [
    "arr = np.array([1,2,3.14,4])"
   ]
  },
  {
   "cell_type": "code",
   "execution_count": 29,
   "id": "bda71910",
   "metadata": {},
   "outputs": [
    {
     "data": {
      "text/plain": [
       "array([1.  , 2.  , 3.14, 4.  ])"
      ]
     },
     "execution_count": 29,
     "metadata": {},
     "output_type": "execute_result"
    }
   ],
   "source": [
    "arr # noarray는 단일 타입만 저장할 수 있기 때문에 더 큰 자료형인 소수로 저장"
   ]
  },
  {
   "cell_type": "code",
   "execution_count": 30,
   "id": "2172b4c1",
   "metadata": {},
   "outputs": [],
   "source": [
    "arr = np.array([1, 2, 3, 3.14, '😍','1234'])"
   ]
  },
  {
   "cell_type": "code",
   "execution_count": 31,
   "id": "a9fac948",
   "metadata": {},
   "outputs": [
    {
     "data": {
      "text/plain": [
       "array(['1', '2', '3', '3.14', '😍', '1234'], dtype='<U32')"
      ]
     },
     "execution_count": 31,
     "metadata": {},
     "output_type": "execute_result"
    }
   ],
   "source": [
    "arr"
   ]
  },
  {
   "cell_type": "code",
   "execution_count": 33,
   "id": "ff9b4206",
   "metadata": {},
   "outputs": [],
   "source": [
    "# int와 float 타입이 같이 존재하는 경우 int로 설정\n",
    "arr = np.array([1,2,3.14,4], dtype=int)"
   ]
  },
  {
   "cell_type": "code",
   "execution_count": 34,
   "id": "f233d71a",
   "metadata": {},
   "outputs": [
    {
     "data": {
      "text/plain": [
       "array([1, 2, 3, 4])"
      ]
     },
     "execution_count": 34,
     "metadata": {},
     "output_type": "execute_result"
    }
   ],
   "source": [
    "arr"
   ]
  },
  {
   "cell_type": "code",
   "execution_count": 35,
   "id": "59140042",
   "metadata": {},
   "outputs": [
    {
     "ename": "ValueError",
     "evalue": "invalid literal for int() with base 10: '😍'",
     "output_type": "error",
     "traceback": [
      "\u001b[1;31m---------------------------------------------------------------------------\u001b[0m",
      "\u001b[1;31mValueError\u001b[0m                                Traceback (most recent call last)",
      "\u001b[1;32m~\\AppData\\Local\\Temp/ipykernel_10796/613168756.py\u001b[0m in \u001b[0;36m<module>\u001b[1;34m\u001b[0m\n\u001b[0;32m      1\u001b[0m \u001b[1;31m# int와 str 타입이 같이 존재하는 경우 int로 설정\u001b[0m\u001b[1;33m\u001b[0m\u001b[1;33m\u001b[0m\u001b[0m\n\u001b[1;32m----> 2\u001b[1;33m \u001b[0marr\u001b[0m \u001b[1;33m=\u001b[0m \u001b[0mnp\u001b[0m\u001b[1;33m.\u001b[0m\u001b[0marray\u001b[0m\u001b[1;33m(\u001b[0m\u001b[1;33m[\u001b[0m\u001b[1;36m1\u001b[0m\u001b[1;33m,\u001b[0m \u001b[1;36m2\u001b[0m\u001b[1;33m,\u001b[0m \u001b[1;36m3\u001b[0m\u001b[1;33m,\u001b[0m \u001b[1;36m3.14\u001b[0m\u001b[1;33m,\u001b[0m \u001b[1;34m'😍'\u001b[0m\u001b[1;33m,\u001b[0m\u001b[1;34m'1234'\u001b[0m\u001b[1;33m]\u001b[0m\u001b[1;33m,\u001b[0m\u001b[0mdtype\u001b[0m\u001b[1;33m=\u001b[0m\u001b[0mint\u001b[0m\u001b[1;33m)\u001b[0m\u001b[1;33m\u001b[0m\u001b[1;33m\u001b[0m\u001b[0m\n\u001b[0m",
      "\u001b[1;31mValueError\u001b[0m: invalid literal for int() with base 10: '😍'"
     ]
    }
   ],
   "source": [
    "# int와 str 타입이 같이 존재하는 경우 int로 설정\n",
    "arr = np.array([1, 2, 3, 3.14, '😍','1234'],dtype=int)"
   ]
  },
  {
   "cell_type": "code",
   "execution_count": 36,
   "id": "2cef4be9",
   "metadata": {},
   "outputs": [],
   "source": [
    "arr = np.array([1, 2, 3, 3.14, '1234'],dtype=int)"
   ]
  },
  {
   "cell_type": "code",
   "execution_count": 37,
   "id": "faa44b96",
   "metadata": {},
   "outputs": [
    {
     "data": {
      "text/plain": [
       "array([   1,    2,    3,    3, 1234])"
      ]
     },
     "execution_count": 37,
     "metadata": {},
     "output_type": "execute_result"
    }
   ],
   "source": [
    "arr"
   ]
  },
  {
   "cell_type": "markdown",
   "id": "a62e5ffd",
   "metadata": {},
   "source": [
    "## 1-3. 슬라이싱(Slicing)"
   ]
  },
  {
   "cell_type": "markdown",
   "id": "2a04b44e",
   "metadata": {},
   "source": [
    "- 배열의 부분 선택"
   ]
  },
  {
   "cell_type": "code",
   "execution_count": 38,
   "id": "c1099319",
   "metadata": {},
   "outputs": [
    {
     "data": {
      "text/plain": [
       "(5,)"
      ]
     },
     "execution_count": 38,
     "metadata": {},
     "output_type": "execute_result"
    }
   ],
   "source": [
    "arr = np.array(['😍','😊','👍','🙌','💕'])\n",
    "arr.shape"
   ]
  },
  {
   "cell_type": "code",
   "execution_count": 41,
   "id": "8d9ce15b",
   "metadata": {},
   "outputs": [
    {
     "name": "stdout",
     "output_type": "stream",
     "text": [
      "😍\n",
      "💕\n",
      "💕\n"
     ]
    }
   ],
   "source": [
    "print(arr[0])\n",
    "print(arr[4])\n",
    "print(arr[-1])"
   ]
  },
  {
   "cell_type": "code",
   "execution_count": 42,
   "id": "b7a6d273",
   "metadata": {},
   "outputs": [
    {
     "name": "stdout",
     "output_type": "stream",
     "text": [
      "['😍' '😊' '👍']\n"
     ]
    }
   ],
   "source": [
    "print(arr[0:3]) # 0번부터 3전까지(0부터 2까지)"
   ]
  },
  {
   "cell_type": "code",
   "execution_count": 43,
   "id": "cd11efb7",
   "metadata": {},
   "outputs": [
    {
     "name": "stdout",
     "output_type": "stream",
     "text": [
      "['👍' '🙌' '💕']\n"
     ]
    }
   ],
   "source": [
    "print(arr[2:]) # 2번부터 끝까지"
   ]
  },
  {
   "cell_type": "code",
   "execution_count": 44,
   "id": "7bd6be6b",
   "metadata": {},
   "outputs": [
    {
     "name": "stdout",
     "output_type": "stream",
     "text": [
      "['😍' '😊']\n"
     ]
    }
   ],
   "source": [
    "print(arr[:2]) # 맨처음부터 1까지"
   ]
  },
  {
   "cell_type": "code",
   "execution_count": 45,
   "id": "89179739",
   "metadata": {},
   "outputs": [],
   "source": [
    "arr2d = np.array([[1,2,3,4],\n",
    "                 [5,6,7,8],\n",
    "                 [9,10,11,12]])"
   ]
  },
  {
   "cell_type": "code",
   "execution_count": 46,
   "id": "155649c6",
   "metadata": {},
   "outputs": [
    {
     "data": {
      "text/plain": [
       "(3, 4)"
      ]
     },
     "execution_count": 46,
     "metadata": {},
     "output_type": "execute_result"
    }
   ],
   "source": [
    "arr2d.shape"
   ]
  },
  {
   "cell_type": "code",
   "execution_count": 47,
   "id": "254d423d",
   "metadata": {},
   "outputs": [
    {
     "data": {
      "text/plain": [
       "3"
      ]
     },
     "execution_count": 47,
     "metadata": {},
     "output_type": "execute_result"
    }
   ],
   "source": [
    "arr2d[0,2] # 0행 2열"
   ]
  },
  {
   "cell_type": "code",
   "execution_count": 50,
   "id": "d8805de7",
   "metadata": {},
   "outputs": [
    {
     "name": "stdout",
     "output_type": "stream",
     "text": [
      "[1 2 3 4]\n",
      "[1 2 3 4]\n",
      "[1 2 3 4]\n"
     ]
    }
   ],
   "source": [
    "# 0행을 모두 가져오는 방법\n",
    "print(arr2d[0])\n",
    "print(arr2d[0,])\n",
    "print(arr2d[0,:])"
   ]
  },
  {
   "cell_type": "code",
   "execution_count": 51,
   "id": "97278aa4",
   "metadata": {},
   "outputs": [
    {
     "name": "stdout",
     "output_type": "stream",
     "text": [
      "[ 2  6 10]\n"
     ]
    }
   ],
   "source": [
    "# 1열을 모두 가져오는 방법\n",
    "print(arr2d[:,1])"
   ]
  },
  {
   "cell_type": "code",
   "execution_count": 52,
   "id": "d2938f16",
   "metadata": {},
   "outputs": [
    {
     "data": {
      "text/plain": [
       "array([[1, 2, 3, 4],\n",
       "       [5, 6, 7, 8]])"
      ]
     },
     "execution_count": 52,
     "metadata": {},
     "output_type": "execute_result"
    }
   ],
   "source": [
    "arr2d[:2,:] # 2행 전까지(0행과 1행), 모든 열"
   ]
  },
  {
   "cell_type": "code",
   "execution_count": 53,
   "id": "d97e6666",
   "metadata": {},
   "outputs": [
    {
     "data": {
      "text/plain": [
       "array([[3, 4],\n",
       "       [7, 8]])"
      ]
     },
     "execution_count": 53,
     "metadata": {},
     "output_type": "execute_result"
    }
   ],
   "source": [
    "arr2d[:2,2:] # 2행 전짜지 2열부터"
   ]
  },
  {
   "cell_type": "markdown",
   "id": "89b6932d",
   "metadata": {},
   "source": [
    "## 1-4 Fancy 인덱싱"
   ]
  },
  {
   "cell_type": "markdown",
   "id": "5ca43eab",
   "metadata": {},
   "source": [
    "- 범위가 아닌 특정 index의 집합의 값을 선택하여 추출하고 싶을 떄 활용"
   ]
  },
  {
   "cell_type": "code",
   "execution_count": 54,
   "id": "b7194e1c",
   "metadata": {},
   "outputs": [],
   "source": [
    "arr = np.array([10,23,2,7,90,65,32,66,70])"
   ]
  },
  {
   "cell_type": "code",
   "execution_count": 55,
   "id": "bd470c88",
   "metadata": {},
   "outputs": [],
   "source": [
    "idx = [1,3,5] # 추출하고 싶은 인덱스를 리스트로 저장"
   ]
  },
  {
   "cell_type": "code",
   "execution_count": 56,
   "id": "01036fc0",
   "metadata": {},
   "outputs": [
    {
     "data": {
      "text/plain": [
       "array([23,  7, 65])"
      ]
     },
     "execution_count": 56,
     "metadata": {},
     "output_type": "execute_result"
    }
   ],
   "source": [
    "arr[idx]"
   ]
  },
  {
   "cell_type": "code",
   "execution_count": 57,
   "id": "bcb4f76d",
   "metadata": {},
   "outputs": [],
   "source": [
    "arr2d = np.array([[1,2,3,4],\n",
    "                 [5,6,7,8],\n",
    "                 [9,10,11,12]])"
   ]
  },
  {
   "cell_type": "code",
   "execution_count": 58,
   "id": "0b8acf1d",
   "metadata": {},
   "outputs": [
    {
     "data": {
      "text/plain": [
       "array([[1, 2, 3, 4],\n",
       "       [5, 6, 7, 8]])"
      ]
     },
     "execution_count": 58,
     "metadata": {},
     "output_type": "execute_result"
    }
   ],
   "source": [
    "arr2d[[0,1],:]"
   ]
  },
  {
   "cell_type": "markdown",
   "id": "05734b44",
   "metadata": {},
   "source": [
    "## 1-5. Boolean 인덱싱"
   ]
  },
  {
   "cell_type": "markdown",
   "id": "31d0cca0",
   "metadata": {},
   "source": [
    "- 조건 필터링을 통하여 Boolean 값을 이용한 색인"
   ]
  },
  {
   "cell_type": "code",
   "execution_count": 59,
   "id": "c0a85e6f",
   "metadata": {},
   "outputs": [],
   "source": [
    "arr = np.array(['😍','😊','👍','🙌','💕'])"
   ]
  },
  {
   "cell_type": "code",
   "execution_count": 60,
   "id": "12f3d326",
   "metadata": {},
   "outputs": [],
   "source": [
    "# 추출하고 싶은 인덱스는 True, 아니면 False로\n",
    "myValue = [True, False, True, False, True]"
   ]
  },
  {
   "cell_type": "code",
   "execution_count": 61,
   "id": "634916fa",
   "metadata": {},
   "outputs": [
    {
     "data": {
      "text/plain": [
       "array(['😍', '👍', '💕'], dtype='<U1')"
      ]
     },
     "execution_count": 61,
     "metadata": {},
     "output_type": "execute_result"
    }
   ],
   "source": [
    "arr[myValue]"
   ]
  },
  {
   "cell_type": "code",
   "execution_count": 63,
   "id": "22f22c92",
   "metadata": {},
   "outputs": [
    {
     "ename": "IndexError",
     "evalue": "boolean index did not match indexed array along dimension 0; dimension is 5 but corresponding boolean dimension is 4",
     "output_type": "error",
     "traceback": [
      "\u001b[1;31m---------------------------------------------------------------------------\u001b[0m",
      "\u001b[1;31mIndexError\u001b[0m                                Traceback (most recent call last)",
      "\u001b[1;32m~\\AppData\\Local\\Temp/ipykernel_10796/1397428343.py\u001b[0m in \u001b[0;36m<module>\u001b[1;34m\u001b[0m\n\u001b[0;32m      1\u001b[0m \u001b[0mmyValue\u001b[0m \u001b[1;33m=\u001b[0m \u001b[1;33m[\u001b[0m\u001b[1;32mTrue\u001b[0m\u001b[1;33m,\u001b[0m \u001b[1;32mFalse\u001b[0m\u001b[1;33m,\u001b[0m \u001b[1;32mTrue\u001b[0m\u001b[1;33m,\u001b[0m \u001b[1;32mFalse\u001b[0m\u001b[1;33m]\u001b[0m \u001b[1;31m# 개수가 안 맞으면 index에러\u001b[0m\u001b[1;33m\u001b[0m\u001b[1;33m\u001b[0m\u001b[0m\n\u001b[1;32m----> 2\u001b[1;33m \u001b[0marr\u001b[0m\u001b[1;33m[\u001b[0m\u001b[0mmyValue\u001b[0m\u001b[1;33m]\u001b[0m\u001b[1;33m\u001b[0m\u001b[1;33m\u001b[0m\u001b[0m\n\u001b[0m",
      "\u001b[1;31mIndexError\u001b[0m: boolean index did not match indexed array along dimension 0; dimension is 5 but corresponding boolean dimension is 4"
     ]
    }
   ],
   "source": [
    "myValue = [True, False, True, False] # 개수가 안 맞으면 index에러\n",
    "arr[myValue]"
   ]
  },
  {
   "cell_type": "code",
   "execution_count": 64,
   "id": "9fb6d498",
   "metadata": {},
   "outputs": [],
   "source": [
    "arr2d = np.array([[1,2,3,4],\n",
    "                 [5,6,7,8],\n",
    "                 [9,10,11,12]])"
   ]
  },
  {
   "cell_type": "code",
   "execution_count": 65,
   "id": "659b571c",
   "metadata": {},
   "outputs": [
    {
     "data": {
      "text/plain": [
       "array([[False, False, False, False],\n",
       "       [ True,  True,  True,  True],\n",
       "       [ True,  True,  True,  True]])"
      ]
     },
     "execution_count": 65,
     "metadata": {},
     "output_type": "execute_result"
    }
   ],
   "source": [
    "arr2d > 4"
   ]
  },
  {
   "cell_type": "code",
   "execution_count": 66,
   "id": "ba10a722",
   "metadata": {},
   "outputs": [
    {
     "data": {
      "text/plain": [
       "array([[ True,  True,  True,  True],\n",
       "       [ True,  True, False, False],\n",
       "       [False, False, False, False]])"
      ]
     },
     "execution_count": 66,
     "metadata": {},
     "output_type": "execute_result"
    }
   ],
   "source": [
    "arr2d < 7"
   ]
  },
  {
   "cell_type": "code",
   "execution_count": 68,
   "id": "31bf5f3e",
   "metadata": {},
   "outputs": [
    {
     "data": {
      "text/plain": [
       "array([ 5,  6,  7,  8,  9, 10, 11, 12])"
      ]
     },
     "execution_count": 68,
     "metadata": {},
     "output_type": "execute_result"
    }
   ],
   "source": [
    "arr2d[arr2d>4] # Boolean 인덱스를 사용하면 1차원으로 바뀜"
   ]
  },
  {
   "cell_type": "code",
   "execution_count": 69,
   "id": "593325c8",
   "metadata": {},
   "outputs": [
    {
     "data": {
      "text/plain": [
       "array([1, 2, 3, 4, 5, 6])"
      ]
     },
     "execution_count": 69,
     "metadata": {},
     "output_type": "execute_result"
    }
   ],
   "source": [
    "arr2d[arr2d<7]"
   ]
  },
  {
   "cell_type": "markdown",
   "id": "81427f1e",
   "metadata": {},
   "source": [
    "# 2. 행렬 연산"
   ]
  },
  {
   "cell_type": "markdown",
   "id": "8f1dcf1d",
   "metadata": {},
   "source": [
    "## 2-1. Matrix"
   ]
  },
  {
   "cell_type": "markdown",
   "id": "101dea0e",
   "metadata": {},
   "source": [
    "- 행(row) + 열(column)\n",
    "- 데이터분석 및 기계학습ㅇ서는 행렬을 제외하고 연산할 수 없음"
   ]
  },
  {
   "cell_type": "markdown",
   "id": "bddee6de",
   "metadata": {},
   "source": [
    "## 2-2. 덧셈 연산"
   ]
  },
  {
   "cell_type": "markdown",
   "id": "a55fbffe",
   "metadata": {},
   "source": [
    "- shape가 같아야 함\n",
    "- 같은 position 끼리 연산"
   ]
  },
  {
   "cell_type": "code",
   "execution_count": 76,
   "id": "b526659c",
   "metadata": {},
   "outputs": [],
   "source": [
    "a = np.array([[1,2,3],\n",
    "            [2,3,4]])\n",
    "b = np.array([[3,4,5],\n",
    "             [1,2,3]])"
   ]
  },
  {
   "cell_type": "code",
   "execution_count": 72,
   "id": "34bfa69b",
   "metadata": {},
   "outputs": [
    {
     "data": {
      "text/plain": [
       "array([[4, 6, 8],\n",
       "       [3, 5, 7]])"
      ]
     },
     "execution_count": 72,
     "metadata": {},
     "output_type": "execute_result"
    }
   ],
   "source": [
    "a + b # 각각의 position끼리 연산"
   ]
  },
  {
   "cell_type": "code",
   "execution_count": 73,
   "id": "62e2b966",
   "metadata": {},
   "outputs": [],
   "source": [
    "# shape가 다른 경우\n",
    "\n",
    "a = np.array([[1,2,3],\n",
    "            [2,3,4]])\n",
    "b = np.array([[3,4],\n",
    "             [1,2]])"
   ]
  },
  {
   "cell_type": "code",
   "execution_count": 74,
   "id": "89628b49",
   "metadata": {},
   "outputs": [
    {
     "ename": "ValueError",
     "evalue": "operands could not be broadcast together with shapes (2,3) (2,2) ",
     "output_type": "error",
     "traceback": [
      "\u001b[1;31m---------------------------------------------------------------------------\u001b[0m",
      "\u001b[1;31mValueError\u001b[0m                                Traceback (most recent call last)",
      "\u001b[1;32m~\\AppData\\Local\\Temp/ipykernel_10796/669515380.py\u001b[0m in \u001b[0;36m<module>\u001b[1;34m\u001b[0m\n\u001b[1;32m----> 1\u001b[1;33m \u001b[0ma\u001b[0m \u001b[1;33m+\u001b[0m \u001b[0mb\u001b[0m \u001b[1;31m# shape가 다르므로 error\u001b[0m\u001b[1;33m\u001b[0m\u001b[1;33m\u001b[0m\u001b[0m\n\u001b[0m",
      "\u001b[1;31mValueError\u001b[0m: operands could not be broadcast together with shapes (2,3) (2,2) "
     ]
    }
   ],
   "source": [
    "a + b # shape가 다르므로 error"
   ]
  },
  {
   "cell_type": "markdown",
   "id": "63f5a398",
   "metadata": {},
   "source": [
    "## 2-3. 뺄셈 연산"
   ]
  },
  {
   "cell_type": "markdown",
   "id": "722f61ca",
   "metadata": {},
   "source": [
    "- shape가 같아야 함\n",
    "- 같은 position 끼리 연산"
   ]
  },
  {
   "cell_type": "code",
   "execution_count": null,
   "id": "b67c5a2d",
   "metadata": {},
   "outputs": [],
   "source": [
    "a = np.array([[1,2,3],\n",
    "            [2,3,4]])\n",
    "b = np.array([[3,4,5],\n",
    "             [1,2,3]])"
   ]
  },
  {
   "cell_type": "code",
   "execution_count": 78,
   "id": "48cc0c55",
   "metadata": {},
   "outputs": [
    {
     "data": {
      "text/plain": [
       "array([[-2, -2, -2],\n",
       "       [ 1,  1,  1]])"
      ]
     },
     "execution_count": 78,
     "metadata": {},
     "output_type": "execute_result"
    }
   ],
   "source": [
    "a - b"
   ]
  },
  {
   "cell_type": "markdown",
   "id": "d3cf349a",
   "metadata": {},
   "source": [
    "## 2-4. 곱셈 연산"
   ]
  },
  {
   "cell_type": "markdown",
   "id": "e24a211b",
   "metadata": {},
   "source": [
    "- shape가 같아야 함\n",
    "- 같은 position 끼리 연산"
   ]
  },
  {
   "cell_type": "code",
   "execution_count": 80,
   "id": "7e4583f7",
   "metadata": {},
   "outputs": [],
   "source": [
    "a = np.array([[1,2,3],\n",
    "            [2,3,4]])\n",
    "b = np.array([[3,4,5],\n",
    "             [1,2,3]])"
   ]
  },
  {
   "cell_type": "code",
   "execution_count": 82,
   "id": "fcfcf9c9",
   "metadata": {},
   "outputs": [
    {
     "data": {
      "text/plain": [
       "array([[ 3,  8, 15],\n",
       "       [ 2,  6, 12]])"
      ]
     },
     "execution_count": 82,
     "metadata": {},
     "output_type": "execute_result"
    }
   ],
   "source": [
    "a * b # 같은 position 끼리 연산"
   ]
  },
  {
   "cell_type": "markdown",
   "id": "1d4a1e7f",
   "metadata": {},
   "source": [
    "## 2-5. dot product(내적)"
   ]
  },
  {
   "cell_type": "markdown",
   "id": "ebb0906a",
   "metadata": {},
   "source": [
    "- 맞닿는 shape가 같아야 함"
   ]
  },
  {
   "cell_type": "code",
   "execution_count": 83,
   "id": "e8ceef50",
   "metadata": {},
   "outputs": [],
   "source": [
    "a = np.array([[1,2,3],\n",
    "             [1,2,3],\n",
    "             [2,3,4]])\n",
    "b = np.array([[1,2],\n",
    "             [3,4],\n",
    "             [5,6]])"
   ]
  },
  {
   "cell_type": "code",
   "execution_count": 84,
   "id": "5dbd61b2",
   "metadata": {},
   "outputs": [
    {
     "data": {
      "text/plain": [
       "((3, 3), (3, 2))"
      ]
     },
     "execution_count": 84,
     "metadata": {},
     "output_type": "execute_result"
    }
   ],
   "source": [
    "a.shape, b.shape"
   ]
  },
  {
   "cell_type": "code",
   "execution_count": 85,
   "id": "c68f042f",
   "metadata": {},
   "outputs": [
    {
     "data": {
      "text/plain": [
       "array([[22, 28],\n",
       "       [22, 28],\n",
       "       [31, 40]])"
      ]
     },
     "execution_count": 85,
     "metadata": {},
     "output_type": "execute_result"
    }
   ],
   "source": [
    "np.dot(a,b)"
   ]
  },
  {
   "cell_type": "markdown",
   "id": "4794d1d3",
   "metadata": {},
   "source": [
    "## 2-6. arange"
   ]
  },
  {
   "cell_type": "markdown",
   "id": "b98ca918",
   "metadata": {},
   "source": [
    "- 순차적인 값을 생성할 때 사용"
   ]
  },
  {
   "cell_type": "code",
   "execution_count": 87,
   "id": "9fdbd638",
   "metadata": {},
   "outputs": [],
   "source": [
    "arr = np.arange(1,11) # 1부터 11미만"
   ]
  },
  {
   "cell_type": "code",
   "execution_count": 88,
   "id": "413d3033",
   "metadata": {},
   "outputs": [
    {
     "data": {
      "text/plain": [
       "array([ 1,  2,  3,  4,  5,  6,  7,  8,  9, 10])"
      ]
     },
     "execution_count": 88,
     "metadata": {},
     "output_type": "execute_result"
    }
   ],
   "source": [
    "arr"
   ]
  },
  {
   "cell_type": "code",
   "execution_count": 89,
   "id": "751a1fa1",
   "metadata": {},
   "outputs": [],
   "source": [
    "arr = np.arange(start=1, stop=11)"
   ]
  },
  {
   "cell_type": "code",
   "execution_count": 90,
   "id": "cd20bfbb",
   "metadata": {},
   "outputs": [
    {
     "data": {
      "text/plain": [
       "array([ 1,  2,  3,  4,  5,  6,  7,  8,  9, 10])"
      ]
     },
     "execution_count": 90,
     "metadata": {},
     "output_type": "execute_result"
    }
   ],
   "source": [
    "arr"
   ]
  },
  {
   "cell_type": "code",
   "execution_count": 91,
   "id": "16b3a3bb",
   "metadata": {},
   "outputs": [],
   "source": [
    "arr = np.arange(start=1, stop=11, step=2)"
   ]
  },
  {
   "cell_type": "code",
   "execution_count": 92,
   "id": "f35a12af",
   "metadata": {},
   "outputs": [
    {
     "data": {
      "text/plain": [
       "array([1, 3, 5, 7, 9])"
      ]
     },
     "execution_count": 92,
     "metadata": {},
     "output_type": "execute_result"
    }
   ],
   "source": [
    "arr"
   ]
  },
  {
   "cell_type": "code",
   "execution_count": 93,
   "id": "d7337c54",
   "metadata": {},
   "outputs": [],
   "source": [
    "arr = range(1,11) # 파이썬 표준 함수"
   ]
  },
  {
   "cell_type": "code",
   "execution_count": 95,
   "id": "d12a752a",
   "metadata": {},
   "outputs": [
    {
     "data": {
      "text/plain": [
       "range(1, 11)"
      ]
     },
     "execution_count": 95,
     "metadata": {},
     "output_type": "execute_result"
    }
   ],
   "source": [
    "arr # 리스트 형식으로 저장X"
   ]
  },
  {
   "cell_type": "code",
   "execution_count": 96,
   "id": "2b68d0b7",
   "metadata": {},
   "outputs": [
    {
     "name": "stdout",
     "output_type": "stream",
     "text": [
      "1\n",
      "2\n",
      "3\n",
      "4\n",
      "5\n",
      "6\n",
      "7\n",
      "8\n",
      "9\n",
      "10\n"
     ]
    }
   ],
   "source": [
    "# range 함수 활용\n",
    "for i in arr:\n",
    "    print(i)"
   ]
  },
  {
   "cell_type": "code",
   "execution_count": 97,
   "id": "b9e8749b",
   "metadata": {},
   "outputs": [
    {
     "name": "stdout",
     "output_type": "stream",
     "text": [
      "1\n",
      "2\n",
      "3\n",
      "4\n",
      "5\n",
      "6\n",
      "7\n",
      "8\n",
      "9\n",
      "10\n"
     ]
    }
   ],
   "source": [
    "for i in range(1,11):\n",
    "    print(i)"
   ]
  },
  {
   "cell_type": "code",
   "execution_count": 100,
   "id": "c88e0f0d",
   "metadata": {},
   "outputs": [
    {
     "name": "stdout",
     "output_type": "stream",
     "text": [
      "1\n",
      "2\n",
      "3\n",
      "4\n",
      "5\n",
      "6\n",
      "7\n",
      "8\n",
      "9\n",
      "10\n"
     ]
    }
   ],
   "source": [
    "# ndarange도 똑같이 활용 가능\n",
    "arr = np.arange(1,11)\n",
    "for i in arr:\n",
    "    print(i)"
   ]
  },
  {
   "cell_type": "markdown",
   "id": "9ddbbedb",
   "metadata": {},
   "source": [
    "## 2-7. 정렬(sort)"
   ]
  },
  {
   "cell_type": "code",
   "execution_count": 101,
   "id": "f1cedeeb",
   "metadata": {},
   "outputs": [],
   "source": [
    "arr = np.array([1,10,5,8,2,4,3,6,8,7,9])"
   ]
  },
  {
   "cell_type": "code",
   "execution_count": 102,
   "id": "c20b6d54",
   "metadata": {},
   "outputs": [
    {
     "data": {
      "text/plain": [
       "array([ 1, 10,  5,  8,  2,  4,  3,  6,  8,  7,  9])"
      ]
     },
     "execution_count": 102,
     "metadata": {},
     "output_type": "execute_result"
    }
   ],
   "source": [
    "arr"
   ]
  },
  {
   "cell_type": "code",
   "execution_count": 103,
   "id": "35bed173",
   "metadata": {},
   "outputs": [
    {
     "data": {
      "text/plain": [
       "array([ 1,  2,  3,  4,  5,  6,  7,  8,  8,  9, 10])"
      ]
     },
     "execution_count": 103,
     "metadata": {},
     "output_type": "execute_result"
    }
   ],
   "source": [
    "np.sort(arr) # 기본적으로 오름차순 정렬"
   ]
  },
  {
   "cell_type": "code",
   "execution_count": 104,
   "id": "f0cd5dbd",
   "metadata": {},
   "outputs": [
    {
     "data": {
      "text/plain": [
       "array([10,  9,  8,  8,  7,  6,  5,  4,  3,  2,  1])"
      ]
     },
     "execution_count": 104,
     "metadata": {},
     "output_type": "execute_result"
    }
   ],
   "source": [
    "np.sort(arr)[::-1] # 내림차순"
   ]
  },
  {
   "cell_type": "code",
   "execution_count": 106,
   "id": "5242cde3",
   "metadata": {},
   "outputs": [
    {
     "data": {
      "text/plain": [
       "array([ 1, 10,  5,  8,  2,  4,  3,  6,  8,  7,  9])"
      ]
     },
     "execution_count": 106,
     "metadata": {},
     "output_type": "execute_result"
    }
   ],
   "source": [
    "arr # numpy의 sort는 값을 알아서 저장X"
   ]
  },
  {
   "cell_type": "code",
   "execution_count": 108,
   "id": "c2e2b224",
   "metadata": {},
   "outputs": [],
   "source": [
    "# 2차원 sort\n",
    "arr2d = np.array([[11,10,12,9],\n",
    "                 [3,1,4,2],\n",
    "                 [5,6,7,8]])"
   ]
  },
  {
   "cell_type": "code",
   "execution_count": 109,
   "id": "1b6947d9",
   "metadata": {},
   "outputs": [
    {
     "data": {
      "text/plain": [
       "(3, 4)"
      ]
     },
     "execution_count": 109,
     "metadata": {},
     "output_type": "execute_result"
    }
   ],
   "source": [
    "arr2d.shape"
   ]
  },
  {
   "cell_type": "code",
   "execution_count": 112,
   "id": "fba4f9f5",
   "metadata": {},
   "outputs": [
    {
     "data": {
      "text/plain": [
       "array([[ 3,  1,  4,  2],\n",
       "       [ 5,  6,  7,  8],\n",
       "       [11, 10, 12,  9]])"
      ]
     },
     "execution_count": 112,
     "metadata": {},
     "output_type": "execute_result"
    }
   ],
   "source": [
    "# 행 정렬\n",
    "np.sort(arr2d, axis=0) # 행의 맨 처음 성분으로 오름차순 정렬"
   ]
  },
  {
   "cell_type": "code",
   "execution_count": 114,
   "id": "098c9f6e",
   "metadata": {},
   "outputs": [
    {
     "data": {
      "text/plain": [
       "array([[ 9, 10, 11, 12],\n",
       "       [ 1,  2,  3,  4],\n",
       "       [ 5,  6,  7,  8]])"
      ]
     },
     "execution_count": 114,
     "metadata": {},
     "output_type": "execute_result"
    }
   ],
   "source": [
    "# 열 정렬\n",
    "np.sort(arr2d, axis=1) # 각 열에서 오름차순 정렬"
   ]
  },
  {
   "cell_type": "code",
   "execution_count": 115,
   "id": "f00f9a33",
   "metadata": {},
   "outputs": [
    {
     "data": {
      "text/plain": [
       "array([[ 9, 10, 11, 12],\n",
       "       [ 1,  2,  3,  4],\n",
       "       [ 5,  6,  7,  8]])"
      ]
     },
     "execution_count": 115,
     "metadata": {},
     "output_type": "execute_result"
    }
   ],
   "source": [
    "# 마지막 방향\n",
    "np.sort(arr2d, axis=-1) #(행)(열) 이므로 -1은 (열)에 해당"
   ]
  },
  {
   "cell_type": "markdown",
   "id": "ab5f0d8a",
   "metadata": {},
   "source": [
    "## 2-8. 숫자의 단일 연산"
   ]
  },
  {
   "cell_type": "code",
   "execution_count": 116,
   "id": "1b700187",
   "metadata": {},
   "outputs": [],
   "source": [
    "a = np.array([[1,2,3],\n",
    "             [4,5,6]])\n",
    "b = np.array([[3,3,3],\n",
    "             [3,3,3]])"
   ]
  },
  {
   "cell_type": "code",
   "execution_count": 117,
   "id": "ac2ff711",
   "metadata": {},
   "outputs": [
    {
     "data": {
      "text/plain": [
       "array([[4, 5, 6],\n",
       "       [7, 8, 9]])"
      ]
     },
     "execution_count": 117,
     "metadata": {},
     "output_type": "execute_result"
    }
   ],
   "source": [
    "a + b"
   ]
  },
  {
   "cell_type": "code",
   "execution_count": 119,
   "id": "3a4d9207",
   "metadata": {},
   "outputs": [
    {
     "data": {
      "text/plain": [
       "array([[4, 5, 6],\n",
       "       [7, 8, 9]])"
      ]
     },
     "execution_count": 119,
     "metadata": {},
     "output_type": "execute_result"
    }
   ],
   "source": [
    "a + 3 # 각 positiob마다 3을 더해줌"
   ]
  },
  {
   "cell_type": "code",
   "execution_count": 120,
   "id": "a982578e",
   "metadata": {},
   "outputs": [
    {
     "data": {
      "text/plain": [
       "array([[-2, -1,  0],\n",
       "       [ 1,  2,  3]])"
      ]
     },
     "execution_count": 120,
     "metadata": {},
     "output_type": "execute_result"
    }
   ],
   "source": [
    "a - 3"
   ]
  },
  {
   "cell_type": "code",
   "execution_count": 121,
   "id": "088911ae",
   "metadata": {},
   "outputs": [
    {
     "data": {
      "text/plain": [
       "array([[ 3,  6,  9],\n",
       "       [12, 15, 18]])"
      ]
     },
     "execution_count": 121,
     "metadata": {},
     "output_type": "execute_result"
    }
   ],
   "source": [
    "a * 3"
   ]
  },
  {
   "cell_type": "code",
   "execution_count": 122,
   "id": "6e88579b",
   "metadata": {},
   "outputs": [
    {
     "data": {
      "text/plain": [
       "array([[0.33333333, 0.66666667, 1.        ],\n",
       "       [1.33333333, 1.66666667, 2.        ]])"
      ]
     },
     "execution_count": 122,
     "metadata": {},
     "output_type": "execute_result"
    }
   ],
   "source": [
    "a / 3"
   ]
  }
 ],
 "metadata": {
  "kernelspec": {
   "display_name": "Python 3 (ipykernel)",
   "language": "python",
   "name": "python3"
  },
  "language_info": {
   "codemirror_mode": {
    "name": "ipython",
    "version": 3
   },
   "file_extension": ".py",
   "mimetype": "text/x-python",
   "name": "python",
   "nbconvert_exporter": "python",
   "pygments_lexer": "ipython3",
   "version": "3.9.7"
  }
 },
 "nbformat": 4,
 "nbformat_minor": 5
}
