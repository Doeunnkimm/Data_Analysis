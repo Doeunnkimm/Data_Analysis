{
 "cells": [
  {
   "cell_type": "markdown",
   "id": "19e339eb",
   "metadata": {},
   "source": [
    "# 1. 고객 주문 데이터 파악"
   ]
  },
  {
   "cell_type": "markdown",
   "id": "c8abcb2c",
   "metadata": {},
   "source": [
    "## 1-1. 데이터 셋\n",
    "- 온라인 리테일 사이트의 2010/12 ~ 2011/12까지의 주문 기록 데이터\n",
    "- 약 500,000건의 데이터"
   ]
  },
  {
   "cell_type": "code",
   "execution_count": 40,
   "id": "4767b815",
   "metadata": {},
   "outputs": [],
   "source": [
    "import numpy as np\n",
    "import pandas as pd"
   ]
  },
  {
   "cell_type": "code",
   "execution_count": 41,
   "id": "58c0c14b",
   "metadata": {},
   "outputs": [],
   "source": [
    "retail = pd.read_csv(\"C:/Users/82103/Desktop/IT Diary/python_AI/필요 csv/OnlineRetail.csv\")"
   ]
  },
  {
   "cell_type": "code",
   "execution_count": 42,
   "id": "cd7b871b",
   "metadata": {},
   "outputs": [
    {
     "name": "stdout",
     "output_type": "stream",
     "text": [
      "<class 'pandas.core.frame.DataFrame'>\n",
      "RangeIndex: 541909 entries, 0 to 541908\n",
      "Data columns (total 8 columns):\n",
      " #   Column       Non-Null Count   Dtype  \n",
      "---  ------       --------------   -----  \n",
      " 0   InvoiceNo    541909 non-null  object \n",
      " 1   StockCode    541909 non-null  object \n",
      " 2   Description  540455 non-null  object \n",
      " 3   Quantity     541909 non-null  int64  \n",
      " 4   InvoiceDate  541909 non-null  object \n",
      " 5   UnitPrice    541909 non-null  float64\n",
      " 6   CustomerID   406829 non-null  float64\n",
      " 7   Country      541909 non-null  object \n",
      "dtypes: float64(2), int64(1), object(5)\n",
      "memory usage: 33.1+ MB\n"
     ]
    }
   ],
   "source": [
    "retail.info()"
   ]
  },
  {
   "cell_type": "code",
   "execution_count": 43,
   "id": "ddf80c15",
   "metadata": {},
   "outputs": [
    {
     "data": {
      "text/plain": [
       "Index(['InvoiceNo', 'StockCode', 'Description', 'Quantity', 'InvoiceDate',\n",
       "       'UnitPrice', 'CustomerID', 'Country'],\n",
       "      dtype='object')"
      ]
     },
     "execution_count": 43,
     "metadata": {},
     "output_type": "execute_result"
    }
   ],
   "source": [
    "retail.columns\n",
    "# InvoiceNo : 주문번호\n",
    "# StockCode : 아이템 아이디\n",
    "# Description : 상품 설명\n",
    "# Quantity : 상품 주문 수량\n",
    "# InvoiceDate : 주문 시간\n",
    "# UnitPrice : 상품 가격\n",
    "# CustomerID : 고객 아이디\n",
    "# Country : 고객 거주 지역(국가)"
   ]
  },
  {
   "cell_type": "code",
   "execution_count": 44,
   "id": "0a9cc8c0",
   "metadata": {},
   "outputs": [
    {
     "data": {
      "text/html": [
       "<div>\n",
       "<style scoped>\n",
       "    .dataframe tbody tr th:only-of-type {\n",
       "        vertical-align: middle;\n",
       "    }\n",
       "\n",
       "    .dataframe tbody tr th {\n",
       "        vertical-align: top;\n",
       "    }\n",
       "\n",
       "    .dataframe thead th {\n",
       "        text-align: right;\n",
       "    }\n",
       "</style>\n",
       "<table border=\"1\" class=\"dataframe\">\n",
       "  <thead>\n",
       "    <tr style=\"text-align: right;\">\n",
       "      <th></th>\n",
       "      <th>InvoiceNo</th>\n",
       "      <th>StockCode</th>\n",
       "      <th>Description</th>\n",
       "      <th>Quantity</th>\n",
       "      <th>InvoiceDate</th>\n",
       "      <th>UnitPrice</th>\n",
       "      <th>CustomerID</th>\n",
       "      <th>Country</th>\n",
       "    </tr>\n",
       "  </thead>\n",
       "  <tbody>\n",
       "    <tr>\n",
       "      <th>0</th>\n",
       "      <td>536365</td>\n",
       "      <td>85123A</td>\n",
       "      <td>WHITE HANGING HEART T-LIGHT HOLDER</td>\n",
       "      <td>6</td>\n",
       "      <td>12/1/2010 8:26</td>\n",
       "      <td>2.55</td>\n",
       "      <td>17850.0</td>\n",
       "      <td>United Kingdom</td>\n",
       "    </tr>\n",
       "    <tr>\n",
       "      <th>1</th>\n",
       "      <td>536365</td>\n",
       "      <td>71053</td>\n",
       "      <td>WHITE METAL LANTERN</td>\n",
       "      <td>6</td>\n",
       "      <td>12/1/2010 8:26</td>\n",
       "      <td>3.39</td>\n",
       "      <td>17850.0</td>\n",
       "      <td>United Kingdom</td>\n",
       "    </tr>\n",
       "    <tr>\n",
       "      <th>2</th>\n",
       "      <td>536365</td>\n",
       "      <td>84406B</td>\n",
       "      <td>CREAM CUPID HEARTS COAT HANGER</td>\n",
       "      <td>8</td>\n",
       "      <td>12/1/2010 8:26</td>\n",
       "      <td>2.75</td>\n",
       "      <td>17850.0</td>\n",
       "      <td>United Kingdom</td>\n",
       "    </tr>\n",
       "    <tr>\n",
       "      <th>3</th>\n",
       "      <td>536365</td>\n",
       "      <td>84029G</td>\n",
       "      <td>KNITTED UNION FLAG HOT WATER BOTTLE</td>\n",
       "      <td>6</td>\n",
       "      <td>12/1/2010 8:26</td>\n",
       "      <td>3.39</td>\n",
       "      <td>17850.0</td>\n",
       "      <td>United Kingdom</td>\n",
       "    </tr>\n",
       "    <tr>\n",
       "      <th>4</th>\n",
       "      <td>536365</td>\n",
       "      <td>84029E</td>\n",
       "      <td>RED WOOLLY HOTTIE WHITE HEART.</td>\n",
       "      <td>6</td>\n",
       "      <td>12/1/2010 8:26</td>\n",
       "      <td>3.39</td>\n",
       "      <td>17850.0</td>\n",
       "      <td>United Kingdom</td>\n",
       "    </tr>\n",
       "  </tbody>\n",
       "</table>\n",
       "</div>"
      ],
      "text/plain": [
       "  InvoiceNo StockCode                          Description  Quantity  \\\n",
       "0    536365    85123A   WHITE HANGING HEART T-LIGHT HOLDER         6   \n",
       "1    536365     71053                  WHITE METAL LANTERN         6   \n",
       "2    536365    84406B       CREAM CUPID HEARTS COAT HANGER         8   \n",
       "3    536365    84029G  KNITTED UNION FLAG HOT WATER BOTTLE         6   \n",
       "4    536365    84029E       RED WOOLLY HOTTIE WHITE HEART.         6   \n",
       "\n",
       "      InvoiceDate  UnitPrice  CustomerID         Country  \n",
       "0  12/1/2010 8:26       2.55     17850.0  United Kingdom  \n",
       "1  12/1/2010 8:26       3.39     17850.0  United Kingdom  \n",
       "2  12/1/2010 8:26       2.75     17850.0  United Kingdom  \n",
       "3  12/1/2010 8:26       3.39     17850.0  United Kingdom  \n",
       "4  12/1/2010 8:26       3.39     17850.0  United Kingdom  "
      ]
     },
     "execution_count": 44,
     "metadata": {},
     "output_type": "execute_result"
    }
   ],
   "source": [
    "retail.head()"
   ]
  },
  {
   "cell_type": "code",
   "execution_count": 45,
   "id": "fd71bd51",
   "metadata": {},
   "outputs": [
    {
     "data": {
      "text/plain": [
       "InvoiceNo           0\n",
       "StockCode           0\n",
       "Description      1454\n",
       "Quantity            0\n",
       "InvoiceDate         0\n",
       "UnitPrice           0\n",
       "CustomerID     135080\n",
       "Country             0\n",
       "dtype: int64"
      ]
     },
     "execution_count": 45,
     "metadata": {},
     "output_type": "execute_result"
    }
   ],
   "source": [
    "# 각 필드당 null이 몇개 있는지 확인\n",
    "retail.isnull().sum()"
   ]
  },
  {
   "cell_type": "code",
   "execution_count": 46,
   "id": "cd2d4d6a",
   "metadata": {},
   "outputs": [],
   "source": [
    "# 비회원을 제거\n",
    "retail = retail[pd.notnull(retail['CustomerID'])]"
   ]
  },
  {
   "cell_type": "code",
   "execution_count": 47,
   "id": "413cf5c9",
   "metadata": {},
   "outputs": [
    {
     "data": {
      "text/plain": [
       "406829"
      ]
     },
     "execution_count": 47,
     "metadata": {},
     "output_type": "execute_result"
    }
   ],
   "source": [
    "len(retail)"
   ]
  },
  {
   "cell_type": "code",
   "execution_count": 48,
   "id": "2a9aaf2e",
   "metadata": {},
   "outputs": [],
   "source": [
    "# 구입 수량이 0이상, 구입 가격이 0이상인 데이터만 저장\n",
    "retail = retail[retail['Quantity']>0]\n",
    "retail = retail[retail['UnitPrice']>0]"
   ]
  },
  {
   "cell_type": "code",
   "execution_count": 49,
   "id": "b391a6a3",
   "metadata": {},
   "outputs": [
    {
     "data": {
      "text/plain": [
       "397884"
      ]
     },
     "execution_count": 49,
     "metadata": {},
     "output_type": "execute_result"
    }
   ],
   "source": [
    "len(retail)"
   ]
  },
  {
   "cell_type": "code",
   "execution_count": 50,
   "id": "d0e51e46",
   "metadata": {},
   "outputs": [
    {
     "name": "stdout",
     "output_type": "stream",
     "text": [
      "<class 'pandas.core.frame.DataFrame'>\n",
      "Int64Index: 397884 entries, 0 to 541908\n",
      "Data columns (total 8 columns):\n",
      " #   Column       Non-Null Count   Dtype  \n",
      "---  ------       --------------   -----  \n",
      " 0   InvoiceNo    397884 non-null  object \n",
      " 1   StockCode    397884 non-null  object \n",
      " 2   Description  397884 non-null  object \n",
      " 3   Quantity     397884 non-null  int64  \n",
      " 4   InvoiceDate  397884 non-null  object \n",
      " 5   UnitPrice    397884 non-null  float64\n",
      " 6   CustomerID   397884 non-null  float64\n",
      " 7   Country      397884 non-null  object \n",
      "dtypes: float64(2), int64(1), object(5)\n",
      "memory usage: 27.3+ MB\n"
     ]
    }
   ],
   "source": [
    "retail.info()"
   ]
  },
  {
   "cell_type": "code",
   "execution_count": 51,
   "id": "245692b8",
   "metadata": {},
   "outputs": [
    {
     "data": {
      "text/html": [
       "<div>\n",
       "<style scoped>\n",
       "    .dataframe tbody tr th:only-of-type {\n",
       "        vertical-align: middle;\n",
       "    }\n",
       "\n",
       "    .dataframe tbody tr th {\n",
       "        vertical-align: top;\n",
       "    }\n",
       "\n",
       "    .dataframe thead th {\n",
       "        text-align: right;\n",
       "    }\n",
       "</style>\n",
       "<table border=\"1\" class=\"dataframe\">\n",
       "  <thead>\n",
       "    <tr style=\"text-align: right;\">\n",
       "      <th></th>\n",
       "      <th>InvoiceNo</th>\n",
       "      <th>StockCode</th>\n",
       "      <th>Description</th>\n",
       "      <th>Quantity</th>\n",
       "      <th>InvoiceDate</th>\n",
       "      <th>UnitPrice</th>\n",
       "      <th>CustomerID</th>\n",
       "      <th>Country</th>\n",
       "      <th>CheckoutPrice</th>\n",
       "    </tr>\n",
       "  </thead>\n",
       "  <tbody>\n",
       "    <tr>\n",
       "      <th>0</th>\n",
       "      <td>536365</td>\n",
       "      <td>85123A</td>\n",
       "      <td>WHITE HANGING HEART T-LIGHT HOLDER</td>\n",
       "      <td>6</td>\n",
       "      <td>12/1/2010 8:26</td>\n",
       "      <td>2.55</td>\n",
       "      <td>17850.0</td>\n",
       "      <td>United Kingdom</td>\n",
       "      <td>15.30</td>\n",
       "    </tr>\n",
       "    <tr>\n",
       "      <th>1</th>\n",
       "      <td>536365</td>\n",
       "      <td>71053</td>\n",
       "      <td>WHITE METAL LANTERN</td>\n",
       "      <td>6</td>\n",
       "      <td>12/1/2010 8:26</td>\n",
       "      <td>3.39</td>\n",
       "      <td>17850.0</td>\n",
       "      <td>United Kingdom</td>\n",
       "      <td>20.34</td>\n",
       "    </tr>\n",
       "    <tr>\n",
       "      <th>2</th>\n",
       "      <td>536365</td>\n",
       "      <td>84406B</td>\n",
       "      <td>CREAM CUPID HEARTS COAT HANGER</td>\n",
       "      <td>8</td>\n",
       "      <td>12/1/2010 8:26</td>\n",
       "      <td>2.75</td>\n",
       "      <td>17850.0</td>\n",
       "      <td>United Kingdom</td>\n",
       "      <td>22.00</td>\n",
       "    </tr>\n",
       "    <tr>\n",
       "      <th>3</th>\n",
       "      <td>536365</td>\n",
       "      <td>84029G</td>\n",
       "      <td>KNITTED UNION FLAG HOT WATER BOTTLE</td>\n",
       "      <td>6</td>\n",
       "      <td>12/1/2010 8:26</td>\n",
       "      <td>3.39</td>\n",
       "      <td>17850.0</td>\n",
       "      <td>United Kingdom</td>\n",
       "      <td>20.34</td>\n",
       "    </tr>\n",
       "    <tr>\n",
       "      <th>4</th>\n",
       "      <td>536365</td>\n",
       "      <td>84029E</td>\n",
       "      <td>RED WOOLLY HOTTIE WHITE HEART.</td>\n",
       "      <td>6</td>\n",
       "      <td>12/1/2010 8:26</td>\n",
       "      <td>3.39</td>\n",
       "      <td>17850.0</td>\n",
       "      <td>United Kingdom</td>\n",
       "      <td>20.34</td>\n",
       "    </tr>\n",
       "  </tbody>\n",
       "</table>\n",
       "</div>"
      ],
      "text/plain": [
       "  InvoiceNo StockCode                          Description  Quantity  \\\n",
       "0    536365    85123A   WHITE HANGING HEART T-LIGHT HOLDER         6   \n",
       "1    536365     71053                  WHITE METAL LANTERN         6   \n",
       "2    536365    84406B       CREAM CUPID HEARTS COAT HANGER         8   \n",
       "3    536365    84029G  KNITTED UNION FLAG HOT WATER BOTTLE         6   \n",
       "4    536365    84029E       RED WOOLLY HOTTIE WHITE HEART.         6   \n",
       "\n",
       "      InvoiceDate  UnitPrice  CustomerID         Country  CheckoutPrice  \n",
       "0  12/1/2010 8:26       2.55     17850.0  United Kingdom          15.30  \n",
       "1  12/1/2010 8:26       3.39     17850.0  United Kingdom          20.34  \n",
       "2  12/1/2010 8:26       2.75     17850.0  United Kingdom          22.00  \n",
       "3  12/1/2010 8:26       3.39     17850.0  United Kingdom          20.34  \n",
       "4  12/1/2010 8:26       3.39     17850.0  United Kingdom          20.34  "
      ]
     },
     "execution_count": 51,
     "metadata": {},
     "output_type": "execute_result"
    }
   ],
   "source": [
    "# 고객의 총 지출비용(CheckoutPrice) = 수량 * 가격\n",
    "retail['CheckoutPrice'] = retail['UnitPrice'] * retail['Quantity']\n",
    "retail.head()"
   ]
  },
  {
   "cell_type": "code",
   "execution_count": 52,
   "id": "66dcaca8",
   "metadata": {},
   "outputs": [],
   "source": [
    "retail.to_csv('OnlineRetailClean.csv')"
   ]
  },
  {
   "cell_type": "code",
   "execution_count": 53,
   "id": "bddedf8d",
   "metadata": {},
   "outputs": [],
   "source": [
    "dtypes = {'UnitPrice':np.float32, 'CustomerID':np.int32, 'Quantity':np.int32}\n",
    "# 데이터를 보았을 때, 필요 없이 float 타입으로 가지고 있는 성분들을 int로 변경\n",
    "# float보다는 int타입으로 바꾸어 메모리를 줄여서 연산 속도를 줄이자\n",
    "\n",
    "retail = pd.read_csv(\"C:/Users/82103/Desktop/IT Diary/python_AI/필요 csv/OnlineRetailClean.csv\", dtype=dtypes)"
   ]
  },
  {
   "cell_type": "code",
   "execution_count": 54,
   "id": "242dbd39",
   "metadata": {},
   "outputs": [
    {
     "data": {
      "text/html": [
       "<div>\n",
       "<style scoped>\n",
       "    .dataframe tbody tr th:only-of-type {\n",
       "        vertical-align: middle;\n",
       "    }\n",
       "\n",
       "    .dataframe tbody tr th {\n",
       "        vertical-align: top;\n",
       "    }\n",
       "\n",
       "    .dataframe thead th {\n",
       "        text-align: right;\n",
       "    }\n",
       "</style>\n",
       "<table border=\"1\" class=\"dataframe\">\n",
       "  <thead>\n",
       "    <tr style=\"text-align: right;\">\n",
       "      <th></th>\n",
       "      <th>Unnamed: 0</th>\n",
       "      <th>InvoiceNo</th>\n",
       "      <th>StockCode</th>\n",
       "      <th>Description</th>\n",
       "      <th>Quantity</th>\n",
       "      <th>InvoiceDate</th>\n",
       "      <th>UnitPrice</th>\n",
       "      <th>CustomerID</th>\n",
       "      <th>Country</th>\n",
       "      <th>CheckoutPrice</th>\n",
       "    </tr>\n",
       "  </thead>\n",
       "  <tbody>\n",
       "    <tr>\n",
       "      <th>0</th>\n",
       "      <td>0</td>\n",
       "      <td>536365</td>\n",
       "      <td>85123A</td>\n",
       "      <td>WHITE HANGING HEART T-LIGHT HOLDER</td>\n",
       "      <td>6</td>\n",
       "      <td>12/1/2010 8:26</td>\n",
       "      <td>2.55</td>\n",
       "      <td>17850</td>\n",
       "      <td>United Kingdom</td>\n",
       "      <td>15.30</td>\n",
       "    </tr>\n",
       "    <tr>\n",
       "      <th>1</th>\n",
       "      <td>1</td>\n",
       "      <td>536365</td>\n",
       "      <td>71053</td>\n",
       "      <td>WHITE METAL LANTERN</td>\n",
       "      <td>6</td>\n",
       "      <td>12/1/2010 8:26</td>\n",
       "      <td>3.39</td>\n",
       "      <td>17850</td>\n",
       "      <td>United Kingdom</td>\n",
       "      <td>20.34</td>\n",
       "    </tr>\n",
       "    <tr>\n",
       "      <th>2</th>\n",
       "      <td>2</td>\n",
       "      <td>536365</td>\n",
       "      <td>84406B</td>\n",
       "      <td>CREAM CUPID HEARTS COAT HANGER</td>\n",
       "      <td>8</td>\n",
       "      <td>12/1/2010 8:26</td>\n",
       "      <td>2.75</td>\n",
       "      <td>17850</td>\n",
       "      <td>United Kingdom</td>\n",
       "      <td>22.00</td>\n",
       "    </tr>\n",
       "    <tr>\n",
       "      <th>3</th>\n",
       "      <td>3</td>\n",
       "      <td>536365</td>\n",
       "      <td>84029G</td>\n",
       "      <td>KNITTED UNION FLAG HOT WATER BOTTLE</td>\n",
       "      <td>6</td>\n",
       "      <td>12/1/2010 8:26</td>\n",
       "      <td>3.39</td>\n",
       "      <td>17850</td>\n",
       "      <td>United Kingdom</td>\n",
       "      <td>20.34</td>\n",
       "    </tr>\n",
       "    <tr>\n",
       "      <th>4</th>\n",
       "      <td>4</td>\n",
       "      <td>536365</td>\n",
       "      <td>84029E</td>\n",
       "      <td>RED WOOLLY HOTTIE WHITE HEART.</td>\n",
       "      <td>6</td>\n",
       "      <td>12/1/2010 8:26</td>\n",
       "      <td>3.39</td>\n",
       "      <td>17850</td>\n",
       "      <td>United Kingdom</td>\n",
       "      <td>20.34</td>\n",
       "    </tr>\n",
       "  </tbody>\n",
       "</table>\n",
       "</div>"
      ],
      "text/plain": [
       "   Unnamed: 0  InvoiceNo StockCode                          Description  \\\n",
       "0           0     536365    85123A   WHITE HANGING HEART T-LIGHT HOLDER   \n",
       "1           1     536365     71053                  WHITE METAL LANTERN   \n",
       "2           2     536365    84406B       CREAM CUPID HEARTS COAT HANGER   \n",
       "3           3     536365    84029G  KNITTED UNION FLAG HOT WATER BOTTLE   \n",
       "4           4     536365    84029E       RED WOOLLY HOTTIE WHITE HEART.   \n",
       "\n",
       "   Quantity     InvoiceDate  UnitPrice  CustomerID         Country  \\\n",
       "0         6  12/1/2010 8:26       2.55       17850  United Kingdom   \n",
       "1         6  12/1/2010 8:26       3.39       17850  United Kingdom   \n",
       "2         8  12/1/2010 8:26       2.75       17850  United Kingdom   \n",
       "3         6  12/1/2010 8:26       3.39       17850  United Kingdom   \n",
       "4         6  12/1/2010 8:26       3.39       17850  United Kingdom   \n",
       "\n",
       "   CheckoutPrice  \n",
       "0          15.30  \n",
       "1          20.34  \n",
       "2          22.00  \n",
       "3          20.34  \n",
       "4          20.34  "
      ]
     },
     "execution_count": 54,
     "metadata": {},
     "output_type": "execute_result"
    }
   ],
   "source": [
    "retail.head()"
   ]
  },
  {
   "cell_type": "code",
   "execution_count": 55,
   "id": "1db80f3c",
   "metadata": {},
   "outputs": [
    {
     "name": "stdout",
     "output_type": "stream",
     "text": [
      "<class 'pandas.core.frame.DataFrame'>\n",
      "RangeIndex: 397884 entries, 0 to 397883\n",
      "Data columns (total 10 columns):\n",
      " #   Column         Non-Null Count   Dtype  \n",
      "---  ------         --------------   -----  \n",
      " 0   Unnamed: 0     397884 non-null  int64  \n",
      " 1   InvoiceNo      397884 non-null  int64  \n",
      " 2   StockCode      397884 non-null  object \n",
      " 3   Description    397884 non-null  object \n",
      " 4   Quantity       397884 non-null  int32  \n",
      " 5   InvoiceDate    397884 non-null  object \n",
      " 6   UnitPrice      397884 non-null  float32\n",
      " 7   CustomerID     397884 non-null  int32  \n",
      " 8   Country        397884 non-null  object \n",
      " 9   CheckoutPrice  397884 non-null  float64\n",
      "dtypes: float32(1), float64(1), int32(2), int64(2), object(4)\n",
      "memory usage: 25.8+ MB\n"
     ]
    }
   ],
   "source": [
    "retail.info()"
   ]
  },
  {
   "cell_type": "markdown",
   "id": "7adbc5f1",
   "metadata": {},
   "source": [
    "## 1-2. 날짜 타입 데이터 변환"
   ]
  },
  {
   "cell_type": "markdown",
   "id": "1f9a92dd",
   "metadata": {},
   "source": [
    "- 문자열로 데이터를 로딩하는 것보다 datetime 타입으로 로딩하는 것이 날짜 분석 및 계산에 용이"
   ]
  },
  {
   "cell_type": "code",
   "execution_count": 56,
   "id": "e9c1389d",
   "metadata": {},
   "outputs": [],
   "source": [
    "# infer_datetime_format = Ture: 날짜 시간 포멧을 추정해서 파싱\n",
    "retail['InvoiceDate'] = pd.to_datetime(retail['InvoiceDate'], infer_datetime_format=True)"
   ]
  },
  {
   "cell_type": "code",
   "execution_count": 57,
   "id": "ae4c8b8c",
   "metadata": {
    "scrolled": false
   },
   "outputs": [
    {
     "name": "stdout",
     "output_type": "stream",
     "text": [
      "<class 'pandas.core.frame.DataFrame'>\n",
      "RangeIndex: 397884 entries, 0 to 397883\n",
      "Data columns (total 10 columns):\n",
      " #   Column         Non-Null Count   Dtype         \n",
      "---  ------         --------------   -----         \n",
      " 0   Unnamed: 0     397884 non-null  int64         \n",
      " 1   InvoiceNo      397884 non-null  int64         \n",
      " 2   StockCode      397884 non-null  object        \n",
      " 3   Description    397884 non-null  object        \n",
      " 4   Quantity       397884 non-null  int32         \n",
      " 5   InvoiceDate    397884 non-null  datetime64[ns]\n",
      " 6   UnitPrice      397884 non-null  float32       \n",
      " 7   CustomerID     397884 non-null  int32         \n",
      " 8   Country        397884 non-null  object        \n",
      " 9   CheckoutPrice  397884 non-null  float64       \n",
      "dtypes: datetime64[ns](1), float32(1), float64(1), int32(2), int64(2), object(3)\n",
      "memory usage: 25.8+ MB\n"
     ]
    }
   ],
   "source": [
    "retail.info() # InvoiceDate의 타입이 datetime64[ns]으로 변경됨"
   ]
  },
  {
   "cell_type": "code",
   "execution_count": 58,
   "id": "042bdfa0",
   "metadata": {},
   "outputs": [],
   "source": [
    "# Unnamed: 0 열 제거 (불필요한 행)\n",
    "retail = retail.drop('Unnamed: 0', axis=1)"
   ]
  },
  {
   "cell_type": "code",
   "execution_count": 59,
   "id": "e36ba836",
   "metadata": {},
   "outputs": [
    {
     "name": "stdout",
     "output_type": "stream",
     "text": [
      "8911407.904\n"
     ]
    }
   ],
   "source": [
    "# 전체 매출\n",
    "total_revenue = retail['CheckoutPrice'].sum()\n",
    "print(total_revenue)"
   ]
  },
  {
   "cell_type": "code",
   "execution_count": 60,
   "id": "2a1afba3",
   "metadata": {},
   "outputs": [
    {
     "name": "stdout",
     "output_type": "stream",
     "text": [
      "Country\n",
      "Saudi Arabia                145.920\n",
      "Bahrain                     548.400\n",
      "Czech Republic              826.740\n",
      "RSA                        1002.310\n",
      "Brazil                     1143.600\n",
      "European Community         1300.250\n",
      "Lithuania                  1661.060\n",
      "Lebanon                    1693.880\n",
      "United Arab Emirates       1902.280\n",
      "Unspecified                2667.070\n",
      "Malta                      2725.590\n",
      "USA                        3580.390\n",
      "Canada                     3666.380\n",
      "Iceland                    4310.000\n",
      "Greece                     4760.520\n",
      "Israel                     7221.690\n",
      "Poland                     7334.650\n",
      "Austria                   10198.680\n",
      "Cyprus                    13590.380\n",
      "Italy                     17483.240\n",
      "Denmark                   18955.340\n",
      "Channel Islands           20450.440\n",
      "Singapore                 21279.290\n",
      "Finland                   22546.080\n",
      "Portugal                  33439.890\n",
      "Norway                    36165.440\n",
      "Japan                     37416.370\n",
      "Sweden                    38378.330\n",
      "Belgium                   41196.340\n",
      "Switzerland               56443.950\n",
      "Spain                     61577.110\n",
      "Australia                138521.310\n",
      "France                   209024.050\n",
      "Germany                  228867.140\n",
      "EIRE                     265545.900\n",
      "Netherlands              285446.340\n",
      "United Kingdom          7308391.554\n",
      "Name: CheckoutPrice, dtype: float64\n"
     ]
    }
   ],
   "source": [
    "# 국가별 매출\n",
    "rev_by_contries = retail.groupby('Country')['CheckoutPrice'].sum().sort_values()\n",
    "print(rev_by_contries)"
   ]
  },
  {
   "cell_type": "code",
   "execution_count": 61,
   "id": "6eb57075",
   "metadata": {},
   "outputs": [
    {
     "data": {
      "text/plain": [
       "[Text(0, 0, 'Saudi Arabia'),\n",
       " Text(1, 0, 'Bahrain'),\n",
       " Text(2, 0, 'Czech Republic'),\n",
       " Text(3, 0, 'RSA'),\n",
       " Text(4, 0, 'Brazil'),\n",
       " Text(5, 0, 'European Community'),\n",
       " Text(6, 0, 'Lithuania'),\n",
       " Text(7, 0, 'Lebanon'),\n",
       " Text(8, 0, 'United Arab Emirates'),\n",
       " Text(9, 0, 'Unspecified'),\n",
       " Text(10, 0, 'Malta'),\n",
       " Text(11, 0, 'USA'),\n",
       " Text(12, 0, 'Canada'),\n",
       " Text(13, 0, 'Iceland'),\n",
       " Text(14, 0, 'Greece'),\n",
       " Text(15, 0, 'Israel'),\n",
       " Text(16, 0, 'Poland'),\n",
       " Text(17, 0, 'Austria'),\n",
       " Text(18, 0, 'Cyprus'),\n",
       " Text(19, 0, 'Italy'),\n",
       " Text(20, 0, 'Denmark'),\n",
       " Text(21, 0, 'Channel Islands'),\n",
       " Text(22, 0, 'Singapore'),\n",
       " Text(23, 0, 'Finland'),\n",
       " Text(24, 0, 'Portugal'),\n",
       " Text(25, 0, 'Norway'),\n",
       " Text(26, 0, 'Japan'),\n",
       " Text(27, 0, 'Sweden'),\n",
       " Text(28, 0, 'Belgium'),\n",
       " Text(29, 0, 'Switzerland'),\n",
       " Text(30, 0, 'Spain'),\n",
       " Text(31, 0, 'Australia'),\n",
       " Text(32, 0, 'France'),\n",
       " Text(33, 0, 'Germany'),\n",
       " Text(34, 0, 'EIRE'),\n",
       " Text(35, 0, 'Netherlands'),\n",
       " Text(36, 0, 'United Kingdom')]"
      ]
     },
     "execution_count": 61,
     "metadata": {},
     "output_type": "execute_result"
    },
    {
     "data": {
      "image/png": "[encoded data removed]",
      "text/plain": [
       "<Figure size 1440x720 with 1 Axes>"
      ]
     },
     "metadata": {
      "needs_background": "light"
     },
     "output_type": "display_data"
    }
   ],
   "source": [
    "# plot 객체 생성\n",
    "plot = rev_by_contries.plot(kind='bar', figsize=(20,10))\n",
    "\n",
    "plot.set_xlabel('Contry', fontsize=12)\n",
    "plot.set_ylabel('Revenue', fontsize=12)\n",
    "plot.set_title('Revenue by Contry', fontsize=15)\n",
    "plot.set_xticklabels(labels=rev_by_contries.index, rotation=45)"
   ]
  },
  {
   "cell_type": "code",
   "execution_count": 62,
   "id": "62214b60",
   "metadata": {},
   "outputs": [
    {
     "data": {
      "text/plain": [
       "Country\n",
       "Saudi Arabia            0.000016\n",
       "Bahrain                 0.000062\n",
       "Czech Republic          0.000093\n",
       "RSA                     0.000112\n",
       "Brazil                  0.000128\n",
       "European Community      0.000146\n",
       "Lithuania               0.000186\n",
       "Lebanon                 0.000190\n",
       "United Arab Emirates    0.000213\n",
       "Unspecified             0.000299\n",
       "Malta                   0.000306\n",
       "USA                     0.000402\n",
       "Canada                  0.000411\n",
       "Iceland                 0.000484\n",
       "Greece                  0.000534\n",
       "Israel                  0.000810\n",
       "Poland                  0.000823\n",
       "Austria                 0.001144\n",
       "Cyprus                  0.001525\n",
       "Italy                   0.001962\n",
       "Denmark                 0.002127\n",
       "Channel Islands         0.002295\n",
       "Singapore               0.002388\n",
       "Finland                 0.002530\n",
       "Portugal                0.003752\n",
       "Norway                  0.004058\n",
       "Japan                   0.004199\n",
       "Sweden                  0.004307\n",
       "Belgium                 0.004623\n",
       "Switzerland             0.006334\n",
       "Spain                   0.006910\n",
       "Australia               0.015544\n",
       "France                  0.023456\n",
       "Germany                 0.025682\n",
       "EIRE                    0.029798\n",
       "Netherlands             0.032032\n",
       "United Kingdom          0.820116\n",
       "Name: CheckoutPrice, dtype: float64"
      ]
     },
     "execution_count": 62,
     "metadata": {},
     "output_type": "execute_result"
    }
   ],
   "source": [
    "# 국가별 매출 비율\n",
    "rev_by_contries / total_revenue"
   ]
  },
  {
   "cell_type": "markdown",
   "id": "268b77b2",
   "metadata": {},
   "source": [
    "# 2. 월별 매출 구하기"
   ]
  },
  {
   "cell_type": "code",
   "execution_count": 64,
   "id": "b9cabb1d",
   "metadata": {},
   "outputs": [
    {
     "data": {
      "text/html": [
       "<div>\n",
       "<style scoped>\n",
       "    .dataframe tbody tr th:only-of-type {\n",
       "        vertical-align: middle;\n",
       "    }\n",
       "\n",
       "    .dataframe tbody tr th {\n",
       "        vertical-align: top;\n",
       "    }\n",
       "\n",
       "    .dataframe thead th {\n",
       "        text-align: right;\n",
       "    }\n",
       "</style>\n",
       "<table border=\"1\" class=\"dataframe\">\n",
       "  <thead>\n",
       "    <tr style=\"text-align: right;\">\n",
       "      <th></th>\n",
       "      <th>InvoiceNo</th>\n",
       "      <th>StockCode</th>\n",
       "      <th>Description</th>\n",
       "      <th>Quantity</th>\n",
       "      <th>InvoiceDate</th>\n",
       "      <th>UnitPrice</th>\n",
       "      <th>CustomerID</th>\n",
       "      <th>Country</th>\n",
       "      <th>CheckoutPrice</th>\n",
       "    </tr>\n",
       "  </thead>\n",
       "  <tbody>\n",
       "    <tr>\n",
       "      <th>0</th>\n",
       "      <td>536365</td>\n",
       "      <td>85123A</td>\n",
       "      <td>WHITE HANGING HEART T-LIGHT HOLDER</td>\n",
       "      <td>6</td>\n",
       "      <td>2010-12-01 08:26:00</td>\n",
       "      <td>2.55</td>\n",
       "      <td>17850</td>\n",
       "      <td>United Kingdom</td>\n",
       "      <td>15.30</td>\n",
       "    </tr>\n",
       "    <tr>\n",
       "      <th>1</th>\n",
       "      <td>536365</td>\n",
       "      <td>71053</td>\n",
       "      <td>WHITE METAL LANTERN</td>\n",
       "      <td>6</td>\n",
       "      <td>2010-12-01 08:26:00</td>\n",
       "      <td>3.39</td>\n",
       "      <td>17850</td>\n",
       "      <td>United Kingdom</td>\n",
       "      <td>20.34</td>\n",
       "    </tr>\n",
       "    <tr>\n",
       "      <th>2</th>\n",
       "      <td>536365</td>\n",
       "      <td>84406B</td>\n",
       "      <td>CREAM CUPID HEARTS COAT HANGER</td>\n",
       "      <td>8</td>\n",
       "      <td>2010-12-01 08:26:00</td>\n",
       "      <td>2.75</td>\n",
       "      <td>17850</td>\n",
       "      <td>United Kingdom</td>\n",
       "      <td>22.00</td>\n",
       "    </tr>\n",
       "    <tr>\n",
       "      <th>3</th>\n",
       "      <td>536365</td>\n",
       "      <td>84029G</td>\n",
       "      <td>KNITTED UNION FLAG HOT WATER BOTTLE</td>\n",
       "      <td>6</td>\n",
       "      <td>2010-12-01 08:26:00</td>\n",
       "      <td>3.39</td>\n",
       "      <td>17850</td>\n",
       "      <td>United Kingdom</td>\n",
       "      <td>20.34</td>\n",
       "    </tr>\n",
       "    <tr>\n",
       "      <th>4</th>\n",
       "      <td>536365</td>\n",
       "      <td>84029E</td>\n",
       "      <td>RED WOOLLY HOTTIE WHITE HEART.</td>\n",
       "      <td>6</td>\n",
       "      <td>2010-12-01 08:26:00</td>\n",
       "      <td>3.39</td>\n",
       "      <td>17850</td>\n",
       "      <td>United Kingdom</td>\n",
       "      <td>20.34</td>\n",
       "    </tr>\n",
       "  </tbody>\n",
       "</table>\n",
       "</div>"
      ],
      "text/plain": [
       "   InvoiceNo StockCode                          Description  Quantity  \\\n",
       "0     536365    85123A   WHITE HANGING HEART T-LIGHT HOLDER         6   \n",
       "1     536365     71053                  WHITE METAL LANTERN         6   \n",
       "2     536365    84406B       CREAM CUPID HEARTS COAT HANGER         8   \n",
       "3     536365    84029G  KNITTED UNION FLAG HOT WATER BOTTLE         6   \n",
       "4     536365    84029E       RED WOOLLY HOTTIE WHITE HEART.         6   \n",
       "\n",
       "          InvoiceDate  UnitPrice  CustomerID         Country  CheckoutPrice  \n",
       "0 2010-12-01 08:26:00       2.55       17850  United Kingdom          15.30  \n",
       "1 2010-12-01 08:26:00       3.39       17850  United Kingdom          20.34  \n",
       "2 2010-12-01 08:26:00       2.75       17850  United Kingdom          22.00  \n",
       "3 2010-12-01 08:26:00       3.39       17850  United Kingdom          20.34  \n",
       "4 2010-12-01 08:26:00       3.39       17850  United Kingdom          20.34  "
      ]
     },
     "execution_count": 64,
     "metadata": {},
     "output_type": "execute_result"
    }
   ],
   "source": [
    "retail.head()"
   ]
  },
  {
   "cell_type": "code",
   "execution_count": 71,
   "id": "f1ca6afa",
   "metadata": {},
   "outputs": [
    {
     "data": {
      "text/plain": [
       "397883   2011-12-09 12:50:00\n",
       "397876   2011-12-09 12:50:00\n",
       "397870   2011-12-09 12:50:00\n",
       "397871   2011-12-09 12:50:00\n",
       "397872   2011-12-09 12:50:00\n",
       "                 ...        \n",
       "3        2010-12-01 08:26:00\n",
       "1        2010-12-01 08:26:00\n",
       "5        2010-12-01 08:26:00\n",
       "6        2010-12-01 08:26:00\n",
       "0        2010-12-01 08:26:00\n",
       "Name: InvoiceDate, Length: 397884, dtype: datetime64[ns]"
      ]
     },
     "execution_count": 71,
     "metadata": {},
     "output_type": "execute_result"
    }
   ],
   "source": [
    "retail['InvoiceDate'].sort_values(ascending=False) # 내림차순으로 정렬"
   ]
  },
  {
   "cell_type": "code",
   "execution_count": 73,
   "id": "b808e4f5",
   "metadata": {},
   "outputs": [],
   "source": [
    "def extract_month(date): # 2011-12-09 12:50:00\n",
    "    month = str(date.month) # date의 month를 추출\n",
    "    if date.month < 10: # 예를 들어 9월이면\n",
    "        month = '0' + month # 09로 리턴\n",
    "    return str(date.year) + month # 10보다 작은 경우가 아닌 경우"
   ]
  },
  {
   "cell_type": "code",
   "execution_count": 77,
   "id": "1b651d30",
   "metadata": {},
   "outputs": [
    {
     "data": {
      "text/plain": [
       "InvoiceDate\n",
       "201012     572713.890\n",
       "201101     569445.040\n",
       "201102     447137.350\n",
       "201103     595500.760\n",
       "201104     469200.361\n",
       "201105     678594.560\n",
       "201106     661213.690\n",
       "201107     600091.011\n",
       "201108     645343.900\n",
       "201109     952838.382\n",
       "201110    1039318.790\n",
       "201111    1161817.380\n",
       "201112     518192.790\n",
       "Name: CheckoutPrice, dtype: float64"
      ]
     },
     "execution_count": 77,
     "metadata": {},
     "output_type": "execute_result"
    }
   ],
   "source": [
    "rev_by_month = retail.set_index('InvoiceDate').groupby(extract_month).sum()['CheckoutPrice']\n",
    "# retail.set_index('InvoiceDate')를 인덱스로 삼으면 extract_month함수에 적용가능\n",
    "rev_by_month"
   ]
  },
  {
   "cell_type": "code",
   "execution_count": 80,
   "id": "c819c234",
   "metadata": {},
   "outputs": [],
   "source": [
    "def plot_bar(df, xlabel, ylabel, title, figsize=(20, 10), rotation=45):\n",
    "  plot = df.plot(kind='bar', figsize=figsize)\n",
    "  plot.set_xlabel(xlabel, fontsize=12)\n",
    "  plot.set_ylabel(ylabel, fontsize=12)\n",
    "  plot.set_title(title, fontsize=15)\n",
    "  plot.set_xticklabels(labels=df.index, rotation=rotation)"
   ]
  },
  {
   "cell_type": "code",
   "execution_count": 81,
   "id": "bbd43591",
   "metadata": {},
   "outputs": [
    {
     "data": {
      "image/png": "[encoded data removed]",
      "text/plain": [
       "<Figure size 1440x720 with 1 Axes>"
      ]
     },
     "metadata": {
      "needs_background": "light"
     },
     "output_type": "display_data"
    }
   ],
   "source": [
    "plot_bar(rev_by_month, 'Month','Revenue','Revenue by Month')"
   ]
  },
  {
   "cell_type": "markdown",
   "id": "ca446211",
   "metadata": {},
   "source": [
    "# 3. 요일별 매출 구하기"
   ]
  },
  {
   "cell_type": "code",
   "execution_count": 103,
   "id": "30113774",
   "metadata": {},
   "outputs": [
    {
     "data": {
      "text/plain": [
       "InvoiceDate\n",
       "0    1367146.411\n",
       "1    1700634.631\n",
       "2    1588336.170\n",
       "3    1976859.070\n",
       "4    1485917.401\n",
       "6     792514.221\n",
       "Name: CheckoutPrice, dtype: float64"
      ]
     },
     "execution_count": 103,
     "metadata": {},
     "output_type": "execute_result"
    }
   ],
   "source": [
    "rev_by_dow = retail.set_index('InvoiceDate').groupby(lambda date:date.dayofweek).sum()['CheckoutPrice']\n",
    "# InvoiceDate 정보가 date에 계속 들어감\n",
    "rev_by_dow\n",
    "# 0:월요일, 1: 화요일, ...\n",
    "# 5: 토요일은 없음"
   ]
  },
  {
   "cell_type": "code",
   "execution_count": 104,
   "id": "bb2cba78",
   "metadata": {
    "scrolled": false
   },
   "outputs": [
    {
     "data": {
      "image/png": "[encoded data removed]",
      "text/plain": [
       "<Figure size 1440x720 with 1 Axes>"
      ]
     },
     "metadata": {
      "needs_background": "light"
     },
     "output_type": "display_data"
    }
   ],
   "source": [
    "DAY_OF_WEEK = np.array(['Mon','Tue','Wed','Thur','Fri','Sat','Sun'])\n",
    "rev_by_dow.index = DAY_OF_WEEK[rev_by_dow.index]\n",
    "# 토요일은 없어서 빠짐\n",
    "plot_bar(rev_by_dow,'DOW','Revenue','Revenue by DOW')"
   ]
  },
  {
   "cell_type": "markdown",
   "id": "c9d127f2",
   "metadata": {},
   "source": [
    "# 4. 시간대별 매출"
   ]
  },
  {
   "cell_type": "code",
   "execution_count": 96,
   "id": "9f619886",
   "metadata": {},
   "outputs": [
    {
     "data": {
      "text/plain": [
       "InvoiceDate\n",
       "6           4.250\n",
       "7       31059.210\n",
       "8      282115.630\n",
       "9      842605.171\n",
       "10    1261192.571\n",
       "11    1104558.750\n",
       "12    1378571.480\n",
       "13    1173264.750\n",
       "14     995629.371\n",
       "15     966191.750\n",
       "16     468885.800\n",
       "17     234413.521\n",
       "18     104954.430\n",
       "19      49028.460\n",
       "20      18932.760\n",
       "Name: CheckoutPrice, dtype: float64"
      ]
     },
     "execution_count": 96,
     "metadata": {},
     "output_type": "execute_result"
    }
   ],
   "source": [
    "rev_by_hour = retail.set_index('InvoiceDate').groupby(lambda date:date.hour).sum()['CheckoutPrice']\n",
    "rev_by_hour"
   ]
  },
  {
   "cell_type": "code",
   "execution_count": 97,
   "id": "d222c695",
   "metadata": {},
   "outputs": [
    {
     "data": {
      "image/png": "[encoded data removed]",
      "text/plain": [
       "<Figure size 1440x720 with 1 Axes>"
      ]
     },
     "metadata": {
      "needs_background": "light"
     },
     "output_type": "display_data"
    }
   ],
   "source": [
    "plot_bar(rev_by_hour, 'hour','Revenue','Revenue by hour')"
   ]
  },
  {
   "cell_type": "markdown",
   "id": "d4441716",
   "metadata": {},
   "source": [
    "# 5. 매출데이터로부터 insight"
   ]
  },
  {
   "cell_type": "markdown",
   "id": "a3eb36d0",
   "metadata": {},
   "source": [
    "- 전체 매출의 약 82%가 UK에서 발생\n",
    "- 11년도 가장 많은 매출이 발생한 달은 11월\n",
    "- 매출은 꾸준히 급성장(12월 데이터는 모두 포함되지 않음)\n",
    "- 일주일 중 목요일까지는 성장세, 이후로 하락(토요일에는 영업을 하지 않음)\n",
    "- 6시에 주문이 시작, 12시까지는 성장세, 오후 3시 이후는 급락"
   ]
  },
  {
   "cell_type": "markdown",
   "id": "64489d8d",
   "metadata": {},
   "source": [
    "# 6. 제품별 metrics"
   ]
  },
  {
   "cell_type": "code",
   "execution_count": 107,
   "id": "2f137b16",
   "metadata": {},
   "outputs": [
    {
     "data": {
      "text/plain": [
       "StockCode\n",
       "23843     80995\n",
       "23166     77916\n",
       "84077     54415\n",
       "22197     49183\n",
       "85099B    46181\n",
       "85123A    36782\n",
       "84879     35362\n",
       "21212     33693\n",
       "23084     27202\n",
       "22492     26076\n",
       "Name: Quantity, dtype: int32"
      ]
     },
     "execution_count": 107,
     "metadata": {},
     "output_type": "execute_result"
    }
   ],
   "source": [
    "# Top 10 판매 제품(Quantity 기준)\n",
    "top_seling = retail.groupby('StockCode').sum()['Quantity'].sort_values(ascending=False)[:10]\n",
    "top_seling"
   ]
  },
  {
   "cell_type": "code",
   "execution_count": 112,
   "id": "82b5ed59",
   "metadata": {},
   "outputs": [
    {
     "data": {
      "text/plain": [
       "StockCode\n",
       "23843     168469.60\n",
       "22423     142592.95\n",
       "85123A    100603.50\n",
       "85099B     85220.78\n",
       "23166      81416.73\n",
       "POST       77803.96\n",
       "47566      68844.33\n",
       "84879      56580.34\n",
       "M          53779.93\n",
       "23084      51346.20\n",
       "Name: CheckoutPrice, dtype: float64"
      ]
     },
     "execution_count": 112,
     "metadata": {},
     "output_type": "execute_result"
    }
   ],
   "source": [
    "# Top 10 판매 제품(CheckoutPrice 기준)\n",
    "top_revenue = retail.groupby('StockCode').sum()['CheckoutPrice'].sort_values(ascending=False)[:10]\n",
    "top_revenue"
   ]
  },
  {
   "cell_type": "markdown",
   "id": "f60c103e",
   "metadata": {},
   "source": [
    "# 7. 우수고객"
   ]
  },
  {
   "cell_type": "code",
   "execution_count": 110,
   "id": "3ae8ac43",
   "metadata": {},
   "outputs": [
    {
     "data": {
      "text/plain": [
       "CustomerID\n",
       "17841    7847\n",
       "14911    5675\n",
       "14096    5111\n",
       "12748    4595\n",
       "14606    2700\n",
       "15311    2379\n",
       "14646    2076\n",
       "13089    1818\n",
       "13263    1677\n",
       "14298    1637\n",
       "Name: Quantity, dtype: int64"
      ]
     },
     "execution_count": 110,
     "metadata": {},
     "output_type": "execute_result"
    }
   ],
   "source": [
    "# 구매 횟수 기준(Quantity 기준)\n",
    "vip = retail.groupby('CustomerID').count()['Quantity'].sort_values(ascending=False)[:10]\n",
    "vip"
   ]
  },
  {
   "cell_type": "code",
   "execution_count": 111,
   "id": "1bb1b838",
   "metadata": {},
   "outputs": [
    {
     "data": {
      "text/plain": [
       "CustomerID\n",
       "14646    280206.02\n",
       "18102    259657.30\n",
       "17450    194550.79\n",
       "16446    168472.50\n",
       "14911    143825.06\n",
       "12415    124914.53\n",
       "14156    117379.63\n",
       "17511     91062.38\n",
       "16029     81024.84\n",
       "12346     77183.60\n",
       "Name: CheckoutPrice, dtype: float64"
      ]
     },
     "execution_count": 111,
     "metadata": {},
     "output_type": "execute_result"
    }
   ],
   "source": [
    "# 지불 금액 기준(CheckoutPrice 기준)\n",
    "vvip = retail.groupby('CustomerID').sum()['CheckoutPrice'].sort_values(ascending=False)[:10]\n",
    "vvip"
   ]
  },
  {
   "cell_type": "markdown",
   "id": "fe9d22ca",
   "metadata": {},
   "source": [
    "# 8. 사용자 기준으로 최초 구매한 월 연산하기"
   ]
  },
  {
   "cell_type": "code",
   "execution_count": 113,
   "id": "501b49a5",
   "metadata": {},
   "outputs": [],
   "source": [
    "from datetime import datetime"
   ]
  },
  {
   "cell_type": "code",
   "execution_count": 115,
   "id": "72c1b325",
   "metadata": {},
   "outputs": [
    {
     "data": {
      "text/html": [
       "<div>\n",
       "<style scoped>\n",
       "    .dataframe tbody tr th:only-of-type {\n",
       "        vertical-align: middle;\n",
       "    }\n",
       "\n",
       "    .dataframe tbody tr th {\n",
       "        vertical-align: top;\n",
       "    }\n",
       "\n",
       "    .dataframe thead th {\n",
       "        text-align: right;\n",
       "    }\n",
       "</style>\n",
       "<table border=\"1\" class=\"dataframe\">\n",
       "  <thead>\n",
       "    <tr style=\"text-align: right;\">\n",
       "      <th></th>\n",
       "      <th>InvoiceNo</th>\n",
       "      <th>StockCode</th>\n",
       "      <th>Description</th>\n",
       "      <th>Quantity</th>\n",
       "      <th>InvoiceDate</th>\n",
       "      <th>UnitPrice</th>\n",
       "      <th>CustomerID</th>\n",
       "      <th>Country</th>\n",
       "      <th>CheckoutPrice</th>\n",
       "      <th>Month</th>\n",
       "    </tr>\n",
       "  </thead>\n",
       "  <tbody>\n",
       "    <tr>\n",
       "      <th>0</th>\n",
       "      <td>536365</td>\n",
       "      <td>85123A</td>\n",
       "      <td>WHITE HANGING HEART T-LIGHT HOLDER</td>\n",
       "      <td>6</td>\n",
       "      <td>2010-12-01 08:26:00</td>\n",
       "      <td>2.55</td>\n",
       "      <td>17850</td>\n",
       "      <td>United Kingdom</td>\n",
       "      <td>15.30</td>\n",
       "      <td>2010-12-01</td>\n",
       "    </tr>\n",
       "    <tr>\n",
       "      <th>1</th>\n",
       "      <td>536365</td>\n",
       "      <td>71053</td>\n",
       "      <td>WHITE METAL LANTERN</td>\n",
       "      <td>6</td>\n",
       "      <td>2010-12-01 08:26:00</td>\n",
       "      <td>3.39</td>\n",
       "      <td>17850</td>\n",
       "      <td>United Kingdom</td>\n",
       "      <td>20.34</td>\n",
       "      <td>2010-12-01</td>\n",
       "    </tr>\n",
       "    <tr>\n",
       "      <th>2</th>\n",
       "      <td>536365</td>\n",
       "      <td>84406B</td>\n",
       "      <td>CREAM CUPID HEARTS COAT HANGER</td>\n",
       "      <td>8</td>\n",
       "      <td>2010-12-01 08:26:00</td>\n",
       "      <td>2.75</td>\n",
       "      <td>17850</td>\n",
       "      <td>United Kingdom</td>\n",
       "      <td>22.00</td>\n",
       "      <td>2010-12-01</td>\n",
       "    </tr>\n",
       "    <tr>\n",
       "      <th>3</th>\n",
       "      <td>536365</td>\n",
       "      <td>84029G</td>\n",
       "      <td>KNITTED UNION FLAG HOT WATER BOTTLE</td>\n",
       "      <td>6</td>\n",
       "      <td>2010-12-01 08:26:00</td>\n",
       "      <td>3.39</td>\n",
       "      <td>17850</td>\n",
       "      <td>United Kingdom</td>\n",
       "      <td>20.34</td>\n",
       "      <td>2010-12-01</td>\n",
       "    </tr>\n",
       "    <tr>\n",
       "      <th>4</th>\n",
       "      <td>536365</td>\n",
       "      <td>84029E</td>\n",
       "      <td>RED WOOLLY HOTTIE WHITE HEART.</td>\n",
       "      <td>6</td>\n",
       "      <td>2010-12-01 08:26:00</td>\n",
       "      <td>3.39</td>\n",
       "      <td>17850</td>\n",
       "      <td>United Kingdom</td>\n",
       "      <td>20.34</td>\n",
       "      <td>2010-12-01</td>\n",
       "    </tr>\n",
       "  </tbody>\n",
       "</table>\n",
       "</div>"
      ],
      "text/plain": [
       "   InvoiceNo StockCode                          Description  Quantity  \\\n",
       "0     536365    85123A   WHITE HANGING HEART T-LIGHT HOLDER         6   \n",
       "1     536365     71053                  WHITE METAL LANTERN         6   \n",
       "2     536365    84406B       CREAM CUPID HEARTS COAT HANGER         8   \n",
       "3     536365    84029G  KNITTED UNION FLAG HOT WATER BOTTLE         6   \n",
       "4     536365    84029E       RED WOOLLY HOTTIE WHITE HEART.         6   \n",
       "\n",
       "          InvoiceDate  UnitPrice  CustomerID         Country  CheckoutPrice  \\\n",
       "0 2010-12-01 08:26:00       2.55       17850  United Kingdom          15.30   \n",
       "1 2010-12-01 08:26:00       3.39       17850  United Kingdom          20.34   \n",
       "2 2010-12-01 08:26:00       2.75       17850  United Kingdom          22.00   \n",
       "3 2010-12-01 08:26:00       3.39       17850  United Kingdom          20.34   \n",
       "4 2010-12-01 08:26:00       3.39       17850  United Kingdom          20.34   \n",
       "\n",
       "       Month  \n",
       "0 2010-12-01  \n",
       "1 2010-12-01  \n",
       "2 2010-12-01  \n",
       "3 2010-12-01  \n",
       "4 2010-12-01  "
      ]
     },
     "execution_count": 115,
     "metadata": {},
     "output_type": "execute_result"
    }
   ],
   "source": [
    "def get_month_as_datetime(date):\n",
    "    # 예를 들어 12월 2일, 12월 13일도 12월 1일로 통일\n",
    "    return datetime(date.year, date.month, 1)\n",
    "\n",
    "retail['Month'] = retail['InvoiceDate'].apply(get_month_as_datetime)\n",
    "retail.head()"
   ]
  },
  {
   "cell_type": "code",
   "execution_count": 117,
   "id": "f70e8c73",
   "metadata": {
    "scrolled": true
   },
   "outputs": [
    {
     "data": {
      "text/html": [
       "<div>\n",
       "<style scoped>\n",
       "    .dataframe tbody tr th:only-of-type {\n",
       "        vertical-align: middle;\n",
       "    }\n",
       "\n",
       "    .dataframe tbody tr th {\n",
       "        vertical-align: top;\n",
       "    }\n",
       "\n",
       "    .dataframe thead th {\n",
       "        text-align: right;\n",
       "    }\n",
       "</style>\n",
       "<table border=\"1\" class=\"dataframe\">\n",
       "  <thead>\n",
       "    <tr style=\"text-align: right;\">\n",
       "      <th></th>\n",
       "      <th>InvoiceNo</th>\n",
       "      <th>StockCode</th>\n",
       "      <th>Description</th>\n",
       "      <th>Quantity</th>\n",
       "      <th>InvoiceDate</th>\n",
       "      <th>UnitPrice</th>\n",
       "      <th>CustomerID</th>\n",
       "      <th>Country</th>\n",
       "      <th>CheckoutPrice</th>\n",
       "      <th>Month</th>\n",
       "      <th>MonthStarted</th>\n",
       "    </tr>\n",
       "  </thead>\n",
       "  <tbody>\n",
       "    <tr>\n",
       "      <th>397879</th>\n",
       "      <td>581587</td>\n",
       "      <td>22613</td>\n",
       "      <td>PACK OF 20 SPACEBOY NAPKINS</td>\n",
       "      <td>12</td>\n",
       "      <td>2011-12-09 12:50:00</td>\n",
       "      <td>0.85</td>\n",
       "      <td>12680</td>\n",
       "      <td>France</td>\n",
       "      <td>10.20</td>\n",
       "      <td>2011-12-01</td>\n",
       "      <td>2011-08-01</td>\n",
       "    </tr>\n",
       "    <tr>\n",
       "      <th>397880</th>\n",
       "      <td>581587</td>\n",
       "      <td>22899</td>\n",
       "      <td>CHILDREN'S APRON DOLLY GIRL</td>\n",
       "      <td>6</td>\n",
       "      <td>2011-12-09 12:50:00</td>\n",
       "      <td>2.10</td>\n",
       "      <td>12680</td>\n",
       "      <td>France</td>\n",
       "      <td>12.60</td>\n",
       "      <td>2011-12-01</td>\n",
       "      <td>2011-08-01</td>\n",
       "    </tr>\n",
       "    <tr>\n",
       "      <th>397881</th>\n",
       "      <td>581587</td>\n",
       "      <td>23254</td>\n",
       "      <td>CHILDRENS CUTLERY DOLLY GIRL</td>\n",
       "      <td>4</td>\n",
       "      <td>2011-12-09 12:50:00</td>\n",
       "      <td>4.15</td>\n",
       "      <td>12680</td>\n",
       "      <td>France</td>\n",
       "      <td>16.60</td>\n",
       "      <td>2011-12-01</td>\n",
       "      <td>2011-08-01</td>\n",
       "    </tr>\n",
       "    <tr>\n",
       "      <th>397882</th>\n",
       "      <td>581587</td>\n",
       "      <td>23255</td>\n",
       "      <td>CHILDRENS CUTLERY CIRCUS PARADE</td>\n",
       "      <td>4</td>\n",
       "      <td>2011-12-09 12:50:00</td>\n",
       "      <td>4.15</td>\n",
       "      <td>12680</td>\n",
       "      <td>France</td>\n",
       "      <td>16.60</td>\n",
       "      <td>2011-12-01</td>\n",
       "      <td>2011-08-01</td>\n",
       "    </tr>\n",
       "    <tr>\n",
       "      <th>397883</th>\n",
       "      <td>581587</td>\n",
       "      <td>22138</td>\n",
       "      <td>BAKING SET 9 PIECE RETROSPOT</td>\n",
       "      <td>3</td>\n",
       "      <td>2011-12-09 12:50:00</td>\n",
       "      <td>4.95</td>\n",
       "      <td>12680</td>\n",
       "      <td>France</td>\n",
       "      <td>14.85</td>\n",
       "      <td>2011-12-01</td>\n",
       "      <td>2011-08-01</td>\n",
       "    </tr>\n",
       "  </tbody>\n",
       "</table>\n",
       "</div>"
      ],
      "text/plain": [
       "        InvoiceNo StockCode                      Description  Quantity  \\\n",
       "397879     581587     22613      PACK OF 20 SPACEBOY NAPKINS        12   \n",
       "397880     581587     22899     CHILDREN'S APRON DOLLY GIRL          6   \n",
       "397881     581587     23254    CHILDRENS CUTLERY DOLLY GIRL          4   \n",
       "397882     581587     23255  CHILDRENS CUTLERY CIRCUS PARADE         4   \n",
       "397883     581587     22138    BAKING SET 9 PIECE RETROSPOT          3   \n",
       "\n",
       "               InvoiceDate  UnitPrice  CustomerID Country  CheckoutPrice  \\\n",
       "397879 2011-12-09 12:50:00       0.85       12680  France          10.20   \n",
       "397880 2011-12-09 12:50:00       2.10       12680  France          12.60   \n",
       "397881 2011-12-09 12:50:00       4.15       12680  France          16.60   \n",
       "397882 2011-12-09 12:50:00       4.15       12680  France          16.60   \n",
       "397883 2011-12-09 12:50:00       4.95       12680  France          14.85   \n",
       "\n",
       "            Month MonthStarted  \n",
       "397879 2011-12-01   2011-08-01  \n",
       "397880 2011-12-01   2011-08-01  \n",
       "397881 2011-12-01   2011-08-01  \n",
       "397882 2011-12-01   2011-08-01  \n",
       "397883 2011-12-01   2011-08-01  "
      ]
     },
     "execution_count": 117,
     "metadata": {},
     "output_type": "execute_result"
    }
   ],
   "source": [
    "month_group = retail.groupby('CustomerID')['Month']\n",
    "# transform() : 데이터프레임에 그룹단위 통계를 집계\n",
    "retail['MonthStarted'] = month_group.transform(np.min)\n",
    "# customer 별로 Month 정보에서 가장 작은 값을 MonthStarted\n",
    "retail.tail()"
   ]
  },
  {
   "cell_type": "code",
   "execution_count": 118,
   "id": "023b2ac2",
   "metadata": {},
   "outputs": [
    {
     "data": {
      "text/html": [
       "<div>\n",
       "<style scoped>\n",
       "    .dataframe tbody tr th:only-of-type {\n",
       "        vertical-align: middle;\n",
       "    }\n",
       "\n",
       "    .dataframe tbody tr th {\n",
       "        vertical-align: top;\n",
       "    }\n",
       "\n",
       "    .dataframe thead th {\n",
       "        text-align: right;\n",
       "    }\n",
       "</style>\n",
       "<table border=\"1\" class=\"dataframe\">\n",
       "  <thead>\n",
       "    <tr style=\"text-align: right;\">\n",
       "      <th></th>\n",
       "      <th>InvoiceNo</th>\n",
       "      <th>StockCode</th>\n",
       "      <th>Description</th>\n",
       "      <th>Quantity</th>\n",
       "      <th>InvoiceDate</th>\n",
       "      <th>UnitPrice</th>\n",
       "      <th>CustomerID</th>\n",
       "      <th>Country</th>\n",
       "      <th>CheckoutPrice</th>\n",
       "      <th>Month</th>\n",
       "      <th>MonthStarted</th>\n",
       "      <th>MonthPassed</th>\n",
       "    </tr>\n",
       "  </thead>\n",
       "  <tbody>\n",
       "    <tr>\n",
       "      <th>397879</th>\n",
       "      <td>581587</td>\n",
       "      <td>22613</td>\n",
       "      <td>PACK OF 20 SPACEBOY NAPKINS</td>\n",
       "      <td>12</td>\n",
       "      <td>2011-12-09 12:50:00</td>\n",
       "      <td>0.85</td>\n",
       "      <td>12680</td>\n",
       "      <td>France</td>\n",
       "      <td>10.20</td>\n",
       "      <td>2011-12-01</td>\n",
       "      <td>2011-08-01</td>\n",
       "      <td>4</td>\n",
       "    </tr>\n",
       "    <tr>\n",
       "      <th>397880</th>\n",
       "      <td>581587</td>\n",
       "      <td>22899</td>\n",
       "      <td>CHILDREN'S APRON DOLLY GIRL</td>\n",
       "      <td>6</td>\n",
       "      <td>2011-12-09 12:50:00</td>\n",
       "      <td>2.10</td>\n",
       "      <td>12680</td>\n",
       "      <td>France</td>\n",
       "      <td>12.60</td>\n",
       "      <td>2011-12-01</td>\n",
       "      <td>2011-08-01</td>\n",
       "      <td>4</td>\n",
       "    </tr>\n",
       "    <tr>\n",
       "      <th>397881</th>\n",
       "      <td>581587</td>\n",
       "      <td>23254</td>\n",
       "      <td>CHILDRENS CUTLERY DOLLY GIRL</td>\n",
       "      <td>4</td>\n",
       "      <td>2011-12-09 12:50:00</td>\n",
       "      <td>4.15</td>\n",
       "      <td>12680</td>\n",
       "      <td>France</td>\n",
       "      <td>16.60</td>\n",
       "      <td>2011-12-01</td>\n",
       "      <td>2011-08-01</td>\n",
       "      <td>4</td>\n",
       "    </tr>\n",
       "    <tr>\n",
       "      <th>397882</th>\n",
       "      <td>581587</td>\n",
       "      <td>23255</td>\n",
       "      <td>CHILDRENS CUTLERY CIRCUS PARADE</td>\n",
       "      <td>4</td>\n",
       "      <td>2011-12-09 12:50:00</td>\n",
       "      <td>4.15</td>\n",
       "      <td>12680</td>\n",
       "      <td>France</td>\n",
       "      <td>16.60</td>\n",
       "      <td>2011-12-01</td>\n",
       "      <td>2011-08-01</td>\n",
       "      <td>4</td>\n",
       "    </tr>\n",
       "    <tr>\n",
       "      <th>397883</th>\n",
       "      <td>581587</td>\n",
       "      <td>22138</td>\n",
       "      <td>BAKING SET 9 PIECE RETROSPOT</td>\n",
       "      <td>3</td>\n",
       "      <td>2011-12-09 12:50:00</td>\n",
       "      <td>4.95</td>\n",
       "      <td>12680</td>\n",
       "      <td>France</td>\n",
       "      <td>14.85</td>\n",
       "      <td>2011-12-01</td>\n",
       "      <td>2011-08-01</td>\n",
       "      <td>4</td>\n",
       "    </tr>\n",
       "  </tbody>\n",
       "</table>\n",
       "</div>"
      ],
      "text/plain": [
       "        InvoiceNo StockCode                      Description  Quantity  \\\n",
       "397879     581587     22613      PACK OF 20 SPACEBOY NAPKINS        12   \n",
       "397880     581587     22899     CHILDREN'S APRON DOLLY GIRL          6   \n",
       "397881     581587     23254    CHILDRENS CUTLERY DOLLY GIRL          4   \n",
       "397882     581587     23255  CHILDRENS CUTLERY CIRCUS PARADE         4   \n",
       "397883     581587     22138    BAKING SET 9 PIECE RETROSPOT          3   \n",
       "\n",
       "               InvoiceDate  UnitPrice  CustomerID Country  CheckoutPrice  \\\n",
       "397879 2011-12-09 12:50:00       0.85       12680  France          10.20   \n",
       "397880 2011-12-09 12:50:00       2.10       12680  France          12.60   \n",
       "397881 2011-12-09 12:50:00       4.15       12680  France          16.60   \n",
       "397882 2011-12-09 12:50:00       4.15       12680  France          16.60   \n",
       "397883 2011-12-09 12:50:00       4.95       12680  France          14.85   \n",
       "\n",
       "            Month MonthStarted  MonthPassed  \n",
       "397879 2011-12-01   2011-08-01            4  \n",
       "397880 2011-12-01   2011-08-01            4  \n",
       "397881 2011-12-01   2011-08-01            4  \n",
       "397882 2011-12-01   2011-08-01            4  \n",
       "397883 2011-12-01   2011-08-01            4  "
      ]
     },
     "execution_count": 118,
     "metadata": {},
     "output_type": "execute_result"
    }
   ],
   "source": [
    "# 각 구매가 최초 구매로부터 얼마나 월이 지났는지 연산\n",
    "retail['MonthPassed'] = (retail['Month'].dt.year - retail['MonthStarted'].dt.year) * 12 + \\\n",
    "    (retail['Month'].dt.month - retail['MonthStarted'].dt.month)\n",
    "\n",
    "retail.tail()"
   ]
  }
 ],
 "metadata": {
  "kernelspec": {
   "display_name": "Python 3 (ipykernel)",
   "language": "python",
   "name": "python3"
  },
  "language_info": {
   "codemirror_mode": {
    "name": "ipython",
    "version": 3
   },
   "file_extension": ".py",
   "mimetype": "text/x-python",
   "name": "python",
   "nbconvert_exporter": "python",
   "pygments_lexer": "ipython3",
   "version": "3.9.7"
  }
 },
 "nbformat": 4,
 "nbformat_minor": 5
}
