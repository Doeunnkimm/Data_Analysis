{
 "cells": [
  {
   "cell_type": "markdown",
   "id": "18132b86",
   "metadata": {},
   "source": [
    "# 1. 스크레이핑(Scraping)\n",
    "- 크롤링(Crawing) : 인터넷의 데이터를 활용하기 위해 정보들을 분석하고 활용할 수 있게 수집하는 행위\n",
    "- 크롤링과 같은 개념이지만 데이터를 추출해서 가공하는 최종 목표"
   ]
  },
  {
   "cell_type": "markdown",
   "id": "0c108fba",
   "metadata": {},
   "source": [
    "# 2. 크롤링"
   ]
  },
  {
   "cell_type": "markdown",
   "id": "26ccaac3",
   "metadata": {},
   "source": [
    "## 2-1. basicenglishspeaking.com"
   ]
  },
  {
   "cell_type": "code",
   "execution_count": 1,
   "id": "96f7d289",
   "metadata": {},
   "outputs": [],
   "source": [
    "import requests # 서버에 접속해서 html 문서를 가져오는 역할(요청 -> 응답)\n",
    "from bs4 import BeautifulSoup # html 문서를 해석하는 역할(파싱)"
   ]
  },
  {
   "cell_type": "code",
   "execution_count": 4,
   "id": "de1ccd02",
   "metadata": {},
   "outputs": [
    {
     "name": "stdout",
     "output_type": "stream",
     "text": [
      "<Response [200]>\n"
     ]
    }
   ],
   "source": [
    "site = 'https://basicenglishspeaking.com/daily-english-conversation-topics/'\n",
    "request = requests.get(site) # url에 접속\n",
    "print(request) # <Response [200]> : 응답이 왔음을 알려주는 것\n",
    "# request 안에 html이 들어갔을 것\n",
    "# print(request.text) # html\n",
    "html = request.text # html 문서를 가져와서 저장"
   ]
  },
  {
   "cell_type": "code",
   "execution_count": 5,
   "id": "90890208",
   "metadata": {},
   "outputs": [],
   "source": [
    "soup = BeautifulSoup(html) # 매개변수로 파싱할 문서를 넣어서 파싱할 객체 만들어줌"
   ]
  },
  {
   "cell_type": "code",
   "execution_count": 7,
   "id": "8794fb5f",
   "metadata": {
    "scrolled": true
   },
   "outputs": [
    {
     "name": "stdout",
     "output_type": "stream",
     "text": [
      "[<div class=\"thrv_wrapper thrv-columns\" style=\"--tcb-col-el-width:792;\"><div class=\"tcb-flex-row tcb--cols--3\"><div class=\"tcb-flex-col\"><div class=\"tcb-col\"><div class=\"thrv_wrapper thrv_text_element\"><p>1. <a class=\"tve-froala\" href=\"https://basicenglishspeaking.com/family/\" style=\"outline: none;\">Family</a><br/>2. <a class=\"tve-froala\" href=\"https://basicenglishspeaking.com/restaurant/\" style=\"outline: none;\">Restaurant</a><br/>3. <a href=\"https://basicenglishspeaking.com/books/\">Books</a><br/>4. <a href=\"https://basicenglishspeaking.com/travel/\">Travel</a><br/>5. <a href=\"https://basicenglishspeaking.com/website/\">Website</a><br/>6. <a href=\"https://basicenglishspeaking.com/accident/\">Accident</a><br/>7. <a class=\"tve-froala\" href=\"https://basicenglishspeaking.com/childhood-memory/\" style=\"outline: none;\">Childhood memory</a><br/>8. <a class=\"tve-froala\" href=\"https://basicenglishspeaking.com/favorite-rooms/\" style=\"outline: none;\">Favorite rooms</a><br/>9. <a href=\"https://basicenglishspeaking.com/presents/\">Presents</a><br/>10. <a class=\"tve-froala\" href=\"https://basicenglishspeaking.com/historical-place/\" style=\"outline: none;\">Historical place</a><br/>11. <a class=\"tve-froala\" href=\"https://basicenglishspeaking.com/newspaper-magazine/\" style=\"outline: none;\">Newspaper/ Magazine</a><br/>12. <a href=\"https://basicenglishspeaking.com/an-event/\">A memorable event</a><br/>13. <a href=\"https://basicenglishspeaking.com/a-subject/\">A favorite subject</a><br/>14. <a href=\"https://basicenglishspeaking.com/a-museum/\">A museum</a><br/>15. <a href=\"https://basicenglishspeaking.com/a-movie/\">A favorite movie</a><br/>16. <a href=\"https://basicenglishspeaking.com/a-foreign-country/\">A foreign country</a><br/>17. <a href=\"https://basicenglishspeaking.com/parties/\">Parties</a><br/>18. <a href=\"https://basicenglishspeaking.com/a-teacher/\">A teacher</a><br/>19. <a href=\"https://basicenglishspeaking.com/a-friend/\">A friend</a><br/>20. <a href=\"https://basicenglishspeaking.com/a-hotel/\">A hotel</a><br/>21. <a href=\"https://basicenglishspeaking.com/a-letter/\">A letter</a><br/>22. <a href=\"https://basicenglishspeaking.com/hobbies/\">Hobbies</a><br/>23. <a href=\"https://basicenglishspeaking.com/music/\">Music</a><br/>24. <a href=\"https://basicenglishspeaking.com/shopping/\">Shopping</a><br/>25. <a href=\"https://basicenglishspeaking.com/holiday/\">Holiday</a></p></div></div></div><div class=\"tcb-flex-col\"><div class=\"tcb-col\"><div class=\"thrv_wrapper thrv_text_element\"><p>26. <a class=\"tve-froala\" href=\"https://basicenglishspeaking.com/animals/\" style=\"outline: none;\">Animals</a><br/>27. <a class=\"tve-froala\" href=\"https://basicenglishspeaking.com/a-practical-skill/\" style=\"outline: none;\">A practical skill</a><br/>28. <a href=\"https://basicenglishspeaking.com/sports/\">Sport</a><br/>29. <a href=\"https://basicenglishspeaking.com/a-school/\">A School</a><br/>30. <a href=\"https://basicenglishspeaking.com/festival/\">Festival</a><br/>31. <a href=\"https://basicenglishspeaking.com/food/\">Food</a><br/>32. <a href=\"https://basicenglishspeaking.com/household-appliance/\">Household appliance</a><br/>33. <a href=\"https://basicenglishspeaking.com/a-music-band/\">A music band</a><br/>34. <a href=\"https://basicenglishspeaking.com/weather/\">Weather</a><br/>35. <a href=\"https://basicenglishspeaking.com/neighbor/\">Neighbor</a><br/>36. <a href=\"https://basicenglishspeaking.com/natural-scenery/\">Natural scenery</a><br/>37. <a href=\"https://basicenglishspeaking.com/outdoor-activities/\">Outdoor activities</a><br/>38. <a href=\"https://basicenglishspeaking.com/law/\">Law</a><br/>39. <a href=\"https://basicenglishspeaking.com/pollution/\">Pollution</a><br/>40. <a href=\"https://basicenglishspeaking.com/traffic-jam/\">Traffic jam</a><br/>41. <a href=\"https://basicenglishspeaking.com/tv-program/\">TV program</a><br/>42. <a href=\"https://basicenglishspeaking.com/architecture-building/\">Architect/ Building</a><br/>43. <a href=\"https://basicenglishspeaking.com/electronic-media/\">Electronic Media</a><br/>44. <a href=\"https://basicenglishspeaking.com/job-career/\">Job/ Career</a><br/>45. <a href=\"https://basicenglishspeaking.com/competition-contest/\">Competition/ contest</a><br/>46. <a href=\"https://basicenglishspeaking.com/a-garden/\">A garden</a><br/>47. <a href=\"https://basicenglishspeaking.com/hometown/\">Hometown</a><br/>48. <a href=\"https://basicenglishspeaking.com/clothing/\">Clothing</a><br/>49. <a href=\"https://basicenglishspeaking.com/an-advertisement/\">Advertisement</a><br/>50. <a href=\"https://basicenglishspeaking.com/a-project/\">A project</a></p></div></div></div><div class=\"tcb-flex-col\"><div class=\"tcb-col\"><div class=\"thrv_wrapper thrv_text_element\"><p>51. <a href=\"https://basicenglishspeaking.com/a-wedding/\">A wedding</a><br/>52. <a href=\"https://basicenglishspeaking.com/a-coffee-shop/\">A Coffee shop</a><br/>53. <a href=\"https://basicenglishspeaking.com/culture/\">Culture</a><br/>54. <a href=\"https://basicenglishspeaking.com/transport/\">Transport</a><br/>55. <a href=\"https://basicenglishspeaking.com/politician/\">Politician</a><br/>56. <a href=\"https://basicenglishspeaking.com/communication/\">Communication</a><br/>57. <a href=\"https://basicenglishspeaking.com/business/\">Business</a><br/>58. <a href=\"https://basicenglishspeaking.com/computer/\">Computer</a><br/>59. <a href=\"https://basicenglishspeaking.com/exercise/\">Exercise</a><br/>60. <a href=\"https://basicenglishspeaking.com/goal-ambition/\">Goal/ ambition</a><br/>61. <a href=\"https://basicenglishspeaking.com/art/\">Art</a><br/>62. <a href=\"https://basicenglishspeaking.com/fashion/\">Fashion</a><br/>63. <a href=\"https://basicenglishspeaking.com/jewelry/\">Jewelry</a><br/>64. <a href=\"https://basicenglishspeaking.com/cosmetic/\">Cosmetic</a><br/>65. <a href=\"https://basicenglishspeaking.com/indoor-game/\">Indoor Game</a><br/>66. <a href=\"https://basicenglishspeaking.com/phone-conversation/\">Phone conversation</a><br/>67. <a href=\"https://basicenglishspeaking.com/learning-second-language/\">Learning A Second language</a><br/>68. <a href=\"https://basicenglishspeaking.com/a-creative-person/\">A Creative Person</a><br/>69. <a href=\"https://basicenglishspeaking.com/a-celebrity/\">A celebrity</a><br/>70. <a href=\"https://basicenglishspeaking.com/a-health-problem/\">A Health Problem</a><br/>71. <a href=\"https://basicenglishspeaking.com/technological-advancements/\">Technological advancements</a><br/>72. <a href=\"https://basicenglishspeaking.com/a-landmark/\">A Landmark</a><br/>73. <a href=\"https://basicenglishspeaking.com/handcraft-items/\">Handcraft Items</a><br/>74. <a href=\"https://basicenglishspeaking.com/plastic-surgery/\">Plastic Surgery</a><br/>75. <a href=\"https://basicenglishspeaking.com/success/\">Success</a></p></div></div></div></div></div>]\n"
     ]
    }
   ],
   "source": [
    "divs = soup.findAll('div', {'class':'thrv-columns'})\n",
    "print(divs)"
   ]
  },
  {
   "cell_type": "code",
   "execution_count": 10,
   "id": "692a733d",
   "metadata": {
    "scrolled": true
   },
   "outputs": [],
   "source": [
    "subject = []\n",
    "\n",
    "for div in divs:\n",
    "    links = div.findAll('a') # 앵커태그만 가져와서 리스트에 저장됨\n",
    "    # print(links)\n",
    "    for link in links:\n",
    "        # print(link.text)\n",
    "        subject.append(link.text)"
   ]
  },
  {
   "cell_type": "code",
   "execution_count": 12,
   "id": "9c64abd6",
   "metadata": {},
   "outputs": [
    {
     "name": "stdout",
     "output_type": "stream",
     "text": [
      "총 75 개의 주제를 찾았습니다.\n",
      " 1, Family\n",
      " 2, Restaurant\n",
      " 3, Books\n",
      " 4, Travel\n",
      " 5, Website\n",
      " 6, Accident\n",
      " 7, Childhood memory\n",
      " 8, Favorite rooms\n",
      " 9, Presents\n",
      "10, Historical place\n",
      "11, Newspaper/ Magazine\n",
      "12, A memorable event\n",
      "13, A favorite subject\n",
      "14, A museum\n",
      "15, A favorite movie\n",
      "16, A foreign country\n",
      "17, Parties\n",
      "18, A teacher\n",
      "19, A friend\n",
      "20, A hotel\n",
      "21, A letter\n",
      "22, Hobbies\n",
      "23, Music\n",
      "24, Shopping\n",
      "25, Holiday\n",
      "26, Animals\n",
      "27, A practical skill\n",
      "28, Sport\n",
      "29, A School\n",
      "30, Festival\n",
      "31, Food\n",
      "32, Household appliance\n",
      "33, A music band\n",
      "34, Weather\n",
      "35, Neighbor\n",
      "36, Natural scenery\n",
      "37, Outdoor activities\n",
      "38, Law\n",
      "39, Pollution\n",
      "40, Traffic jam\n",
      "41, TV program\n",
      "42, Architect/ Building\n",
      "43, Electronic Media\n",
      "44, Job/ Career\n",
      "45, Competition/ contest\n",
      "46, A garden\n",
      "47, Hometown\n",
      "48, Clothing\n",
      "49, Advertisement\n",
      "50, A project\n",
      "51, A wedding\n",
      "52, A Coffee shop\n",
      "53, Culture\n",
      "54, Transport\n",
      "55, Politician\n",
      "56, Communication\n",
      "57, Business\n",
      "58, Computer\n",
      "59, Exercise\n",
      "60, Goal/ ambition\n",
      "61, Art\n",
      "62, Fashion\n",
      "63, Jewelry\n",
      "64, Cosmetic\n",
      "65, Indoor Game\n",
      "66, Phone conversation\n",
      "67, Learning A Second language\n",
      "68, A Creative Person\n",
      "69, A celebrity\n",
      "70, A Health Problem\n",
      "71, Technological advancements\n",
      "72, A Landmark\n",
      "73, Handcraft Items\n",
      "74, Plastic Surgery\n",
      "75, Success\n"
     ]
    }
   ],
   "source": [
    "print('총', len(subject), '개의 주제를 찾았습니다.')\n",
    "for i in range(len(subject)):\n",
    "    print('{0:2d}, {1:s}'.format(i+1, subject[i]))\n",
    "    # 2d는 두자리 숫자를 확보, s는 str"
   ]
  },
  {
   "cell_type": "markdown",
   "id": "5b204be4",
   "metadata": {},
   "source": [
    "## 2-2. 다음 뉴스기사"
   ]
  },
  {
   "cell_type": "code",
   "execution_count": 24,
   "id": "ae26496b",
   "metadata": {},
   "outputs": [],
   "source": [
    "# https://movie.v.daum.net/v/20220625085027862\n",
    "\n",
    "def daum_news_title(news_id):\n",
    "    url = 'https://movie.v.daum.net/v/{}'.format(news_id)\n",
    "    request = requests.get(url)\n",
    "    # print(request)\n",
    "    soup = BeautifulSoup(request.text)\n",
    "    # title = soup.findAll('h3', {'class':'tit_view'}) # 방법1\n",
    "    # title = soup.find('h3', {'class':'tit_view'}) # 방법2\n",
    "    title = soup.select_one('h3.tit_view')\n",
    "    if title:\n",
    "        return title.text.strip() # 타이틀에서 앞 뒤 공백제거\n",
    "    return ''"
   ]
  },
  {
   "cell_type": "code",
   "execution_count": 25,
   "id": "e69c980e",
   "metadata": {},
   "outputs": [
    {
     "data": {
      "text/plain": [
       "'팬데믹 후 첫 천만..마동석 펀치로 심폐소생한 극장가 [상반기 결산-영화]'"
      ]
     },
     "execution_count": 25,
     "metadata": {},
     "output_type": "execute_result"
    }
   ],
   "source": [
    "daum_news_title('20220625085027862')"
   ]
  },
  {
   "cell_type": "markdown",
   "id": "25dce93d",
   "metadata": {},
   "source": [
    "## 2-3. 벅스뮤직 차트"
   ]
  },
  {
   "cell_type": "code",
   "execution_count": 28,
   "id": "3437efc8",
   "metadata": {
    "scrolled": false
   },
   "outputs": [],
   "source": [
    "request = requests.get('https://music.bugs.co.kr/chart')\n",
    "html = request.text\n",
    "soup = BeautifulSoup(html)\n",
    "\n",
    "titles = soup.findAll('p', {'class':'title'})\n",
    "# print(titles)\n",
    "\n",
    "artists = soup.findAll('p', {'class':'artist'})\n",
    "# print(artists)"
   ]
  },
  {
   "cell_type": "code",
   "execution_count": 34,
   "id": "4c3b21ea",
   "metadata": {
    "scrolled": false
   },
   "outputs": [
    {
     "name": "stdout",
     "output_type": "stream",
     "text": [
      "  1위 이민혁 (HUTA) - BOOM\n",
      "  2위 프로미스나인 - Stay This Way\n",
      "  3위 프로미스나인 - Rewind\n",
      "  4위 프로미스나인 - Blind Letter\n",
      "  5위 프로미스나인 - Cheese\n",
      "  6위 프로미스나인 - Up And\n",
      "  7위 이민혁 (HUTA) - 그대가 모르게\n",
      "  8위 이민혁 (HUTA) - 사랑일까요 (Duet. 이창섭 of 비투비)\n",
      "  9위 이민혁 (HUTA) - 넌 나의 봄이야\n",
      " 10위 이민혁 (HUTA) - Shadow\n",
      " 11위 나연 (TWICE) - POP!\n",
      " 12위 IVE (아이브) - LOVE DIVE\n",
      " 13위 Charlie Puth(찰리 푸스) - Left and Right (Feat. Jung Kook of BTS)\n",
      " 14위 이무진 - 참고사항\n",
      " 15위 (여자)아이들 - TOMBOY\n",
      " 16위 LE SSERAFIM (르세라핌) - FEARLESS\n",
      " 17위 BIG Naughty (서동현) - 정이라고 하자 (Feat. 10CM)\n",
      " 18위 aespa - Life′s Too Short (English Ver.)\n",
      " 19위 싸이 (PSY) - That That (prod. & feat. SUGA of BTS)\n",
      " 20위 다비치 - 팡파레\n",
      " 21위 방탄소년단 - Yet To Come\n",
      " 22위 멜로망스(MeloMance) - 사랑인가 봐\n",
      " 23위 aespa - 도깨비불 (Illusion)\n",
      " 24위 케이시 - 늦은 밤 헤어지긴 너무 아쉬워\n",
      " 25위 Red Velvet (레드벨벳) - Feel My Rhythm\n",
      " 26위 Charlie Puth(찰리 푸스) - That's Hilarious\n",
      " 27위 경서 - 나의 X에게\n",
      " 28위 IVE (아이브) - ELEVEN\n",
      " 29위 이민혁 (HUTA) - I’m Rare\n",
      " 30위 이민혁 (HUTA) - Real Game (Like Messi)\n",
      " 31위 폴킴(Paul Kim) - One More Time\n",
      " 32위 이민혁 (HUTA) - Red Wine\n",
      " 33위 BE'O (비오) - LOVE me\n",
      " 34위 이민혁 (HUTA) - 우리 함께 걸어요\n",
      " 35위 이민혁 (HUTA) - 위험해\n",
      " 36위 이민혁 (HUTA) - 끝 눈\n",
      " 37위 BIGBANG (빅뱅) - 봄여름가을겨울 (Still Life)\n",
      " 38위 조유리 - 러브 쉿!\n",
      " 39위 (여자)아이들 - MY BAG\n",
      " 40위 주시크 (Joosiq) - 아무래도 난\n",
      " 41위 이민혁 (HUTA) - 기다리고 있어\n",
      " 42위 The Kid LAROI - STAY\n",
      " 43위 태연 (TAEYEON) - INVU\n",
      " 44위 이무진 - 신호등\n",
      " 45위 10CM - 봄 to 러브\n",
      " 46위 BIG Naughty (서동현) - 낭만교향곡 (Feat. CHANGMO, 박재범)\n",
      " 47위 aespa - Next Level\n",
      " 48위 경서예지 - 다정히 내 이름을 부르면\n",
      " 49위 아이유(IU) - 드라마\n",
      " 50위 박재범 - GANADARA (Feat. 아이유)\n",
      " 51위 김민석 (멜로망스) - 취중고백\n",
      " 52위 YENA (최예나) - SMILEY (Feat. BIBI)\n",
      " 53위 WSG워너비 - 어마어마해\n",
      " 54위 임재현 - 고백하는 취한밤에 (Prod. 2soo)\n",
      " 55위 볼빨간사춘기 - Seoul\n",
      " 56위 (여자)아이들 - 말리지 마\n",
      " 57위 잔나비 - 초록을거머쥔우리는\n",
      " 58위 멜로망스(MeloMance) - Happy Song\n",
      " 59위 정승환 - 흔한 거짓말\n",
      " 60위 헤이즈(Heize) - 마지막 너의 인사\n",
      " 61위 아이유(IU) - strawberry moon\n",
      " 62위 이달의 소녀 - Flip That\n",
      " 63위 태연 (TAEYEON) - Weekend\n",
      " 64위 MSG워너비(M.O.M) - 듣고 싶을까\n",
      " 65위 세븐틴(SEVENTEEN) - HOT\n",
      " 66위 제시(Jessi) - ZOOM\n",
      " 67위 NCT DREAM - Beatbox\n",
      " 68위 볼빨간사춘기 - Love story\n",
      " 69위 임영웅 - 우리들의 블루스\n",
      " 70위 김희재 - 짠짠짠\n",
      " 71위 미연 ((여자)아이들) - Drive\n",
      " 72위 성시경 - 너의 모든 순간\n",
      " 73위 방탄소년단 - Dynamite\n",
      " 74위 Charlie Puth(찰리 푸스) - Light Switch\n",
      " 75위 임영웅 - 사랑은 늘 도망가\n",
      " 76위 쿠기 (Coogie) - Alone (Feat. 이하이)\n",
      " 77위 Justin Bieber(저스틴 비버) - Off My Face\n",
      " 78위 싸이 (PSY) - 감동이야 (feat. 성시경)\n",
      " 79위 아이유(IU) - Celebrity\n",
      " 80위 Lauv(라우브) - All 4 Nothing (I'm So In Love)\n",
      " 81위 멜로망스(MeloMance) - 초대\n",
      " 82위 Harry Styles(해리 스타일스) - As It Was\n",
      " 83위 싸이 (PSY) - Celeb\n",
      " 84위 WSG워너비 조별경연 (대청봉) - YOU AND I\n",
      " 85위 백예린 (Yerin Baek) - 물고기\n",
      " 86위 방탄소년단 - Butter\n",
      " 87위 김희재 - 풍악\n",
      " 88위 sokodomo - 회전목마 (Feat. Zion.T, 원슈타인) (Prod. Slom)\n",
      " 89위 이효리 - FREE SMILE\n",
      " 90위 폴킴(Paul Kim) - 모든 날, 모든 순간 (Every day, Every Moment)\n",
      " 91위 주호 - 내가 아니라도\n",
      " 92위 아이유(IU) - Blueming\n",
      " 93위 주시크 (Joosiq) - 너를 생각해\n",
      " 94위 아이유(IU) - 라일락\n",
      " 95위 프로미스나인 - DM\n",
      " 96위 STAYC(스테이씨) - RUN2U\n",
      " 97위 방탄소년단 - Permission to Dance\n",
      " 98위 세븐틴(SEVENTEEN) - Darl+ing\n",
      " 99위 태연 (TAEYEON) - 내 곁에\n",
      "100위 윤하(Younha/ユンナ) - 사건의 지평선\n"
     ]
    }
   ],
   "source": [
    "for i in range(len(titles)):\n",
    "    title = titles[i].text.strip()\n",
    "    artist = artists[i].text.strip().split('\\n')[0] \n",
    "    # text를 가져와서 앞뒤 공백삭제, \n",
    "    # 엔터친 것을 기준으로 split하고 0,1번이 있을 때 앞 부분만 가져옴\n",
    "    data = '{0:3d}위 {1} - {2}'.format(i+1, artist, title)\n",
    "    print(data)"
   ]
  },
  {
   "cell_type": "markdown",
   "id": "d395bdfa",
   "metadata": {},
   "source": [
    "## 2-4. 멜론 차트"
   ]
  },
  {
   "cell_type": "code",
   "execution_count": 35,
   "id": "1f4aabe4",
   "metadata": {},
   "outputs": [
    {
     "name": "stdout",
     "output_type": "stream",
     "text": [
      "<Response [406]>\n"
     ]
    }
   ],
   "source": [
    "url = 'https://www.melon.com/chart/index.htm'\n",
    "request = requests.get(url)\n",
    "print(request) # 브라우저로 접근하는 것이 아니면 접근할 수 없음"
   ]
  },
  {
   "cell_type": "code",
   "execution_count": 43,
   "id": "dba4702a",
   "metadata": {},
   "outputs": [],
   "source": [
    "# User-Agent: Mozilla/5.0 (Windows NT 10.0; Win64; x64) AppleWebKit/537.36 (KHTML, like Gecko) Chrome/102.0.0.0 Safari/537.36\n",
    "header = {'User-Agent':'Mozilla/5.0 (Windows NT 10.0; Win64; x64)'}\n",
    "\n",
    "url = 'https://www.melon.com/chart/index.htm'\n",
    "request = requests.get(url, headers=header)\n",
    "# print(request) # 브라우저에서 접근하는 것처럼 header를 붙여서 접근\n",
    "\n",
    "html = request.text\n",
    "soup = BeautifulSoup(html)\n",
    "\n",
    "titles = soup.findAll('div', {'class':'rank01'})\n",
    "# print(titles)\n",
    "\n",
    "artists = soup.findAll('span', {'class':'checkEllipsis'})\n",
    "# print(artists)"
   ]
  },
  {
   "cell_type": "code",
   "execution_count": 44,
   "id": "bf6e6792",
   "metadata": {
    "scrolled": false
   },
   "outputs": [
    {
     "name": "stdout",
     "output_type": "stream",
     "text": [
      "  1위 IVE (아이브) - LOVE DIVE\n",
      "  2위 (여자)아이들 - TOMBOY\n",
      "  3위 싸이 (PSY) - That That (prod. & feat. SUGA of BTS)\n",
      "  4위 멜로망스 - 사랑인가 봐\n",
      "  5위 임영웅 - 우리들의 블루스\n",
      "  6위 BIG Naughty (서동현) - 정이라고 하자 (Feat. 10CM)\n",
      "  7위 임영웅 - 사랑은 늘 도망가\n",
      "  8위 경서 - 나의 X에게\n",
      "  9위 임영웅 - 다시 만날 수 있을까\n",
      " 10위 방탄소년단 - Yet To Come\n",
      " 11위 BIGBANG (빅뱅) - 봄여름가을겨울 (Still Life)\n",
      " 12위 LE SSERAFIM (르세라핌) - FEARLESS\n",
      " 13위 BE'O (비오) - LOVE me\n",
      " 14위 임영웅 - 무지개\n",
      " 15위 김민석 (멜로망스) - 취중고백\n",
      " 16위 Red Velvet (레드벨벳) - Feel My Rhythm\n",
      " 17위 Charlie Puth, 정국, 방탄소년단 - Left and Right (Feat. Jung Kook of BTS)\n",
      " 18위 임영웅 - 이제 나만 믿어요\n",
      " 19위 주호 - 내가 아니라도\n",
      " 20위 임영웅 - 아버지\n",
      " 21위 IVE (아이브) - ELEVEN\n",
      " 22위 방탄소년단 - Dynamite\n",
      " 23위 임영웅 - 손이 참 곱던 그대\n",
      " 24위 이무진 - 신호등\n",
      " 25위 임영웅 - A bientot\n",
      " 26위 임영웅 - 사랑해 진짜\n",
      " 27위 경서예지, 전건호 - 다정히 내 이름을 부르면\n",
      " 28위 방탄소년단 - Butter\n",
      " 29위 임영웅 - 인생찬가\n",
      " 30위 주시크 (Joosiq) - 아무래도 난\n",
      " 31위 임영웅 - 연애편지\n",
      " 32위 박재범 - GANADARA (Feat. 아이유)\n",
      " 33위 임영웅 - 사랑역\n",
      " 34위 (여자)아이들 - MY BAG\n",
      " 35위 방탄소년단 - Permission to Dance\n",
      " 36위 케이시 (Kassy) - 늦은 밤 헤어지긴 너무 아쉬워\n",
      " 37위 임영웅 - 보금자리\n",
      " 38위 The Kid LAROI, Justin Bieber - STAY\n",
      " 39위 태연 (TAEYEON) - INVU\n",
      " 40위 임영웅 - 사랑해요 그대를\n",
      " 41위 Charlie Puth - That's Hilarious\n",
      " 42위 MSG워너비(M.O.M) - 듣고 싶을까\n",
      " 43위 임재현 - 고백하는 취한밤에 (Prod. 2soo)\n",
      " 44위 성시경 - 너의 모든 순간\n",
      " 45위 제시 (Jessi) - ZOOM\n",
      " 46위 나연 (TWICE) - POP!\n",
      " 47위 YENA (최예나) - SMILEY (Feat. BIBI)\n",
      " 48위 태연 (TAEYEON) - Weekend\n",
      " 49위 aespa - Next Level\n",
      " 50위 방탄소년단 - 봄날\n",
      " 51위 주시크 (Joosiq) - 너를 생각해\n",
      " 52위 세븐틴 - HOT\n",
      " 53위 다비치 - 팡파레\n",
      " 54위 Coldplay, 방탄소년단 - My Universe\n",
      " 55위 sokodomo - 회전목마 (Feat. Zion.T, 원슈타인) (Prod. Slom)\n",
      " 56위 아이유 - 내 손을 잡아\n",
      " 57위 케이시 (Kassy) - 언제나 사랑해\n",
      " 58위 아이유 - 드라마\n",
      " 59위 BIG Naughty (서동현) - 낭만교향곡 (Feat. CHANGMO, 박재범)\n",
      " 60위 방탄소년단 - Born Singer\n",
      " 61위 BE'O (비오) - 리무진 (Feat. MINO) (Prod. GRAY)\n",
      " 62위 폴킴 - 모든 날, 모든 순간 (Every day, Every Moment)\n",
      " 63위 아이유 - strawberry moon\n",
      " 64위 디핵 (D-Hack), PATEKO (파테코) - OHAYO MY NIGHT\n",
      " 65위 지민, 하성운 - With you\n",
      " 66위 MSG워너비(M.O.M) - 바라만 본다\n",
      " 67위 방탄소년단 - 달려라 방탄\n",
      " 68위 방탄소년단 - 작은 것들을 위한 시 (Boy With Luv) (Feat. Halsey)\n",
      " 69위 자우림 - 스물다섯, 스물하나\n",
      " 70위 경서 - 밤하늘의 별을(2020)\n",
      " 71위 STAYC(스테이씨) - RUN2U\n",
      " 72위 이무진 - 눈이 오잖아(Feat.헤이즈)\n",
      " 73위 방탄소년단 - For Youth\n",
      " 74위 Justin Bieber - Off My Face\n",
      " 75위 NCT DREAM - Beatbox\n",
      " 76위 아이유 - 라일락\n",
      " 77위 아이유 - Celebrity\n",
      " 78위 aespa - Savage\n",
      " 79위 멜로망스 - 고백\n",
      " 80위 탑현 - 호랑수월가\n",
      " 81위 브레이브걸스 - 롤린 (Rollin')\n",
      " 82위 호미들 - 사이렌 Remix (Feat. UNEDUCATED KID, Paul Blanco)\n",
      " 83위 아이유 - Blueming\n",
      " 84위 세븐틴 - Darl+ing\n",
      " 85위 V.O.S - 미친 것처럼\n",
      " 86위 BE'O (비오) - 문득\n",
      " 87위 마크툽 (MAKTUB) - 찰나가 영원이 될 때 (The Eternal Moment)\n",
      " 88위 Ed Sheeran - Bad Habits\n",
      " 89위 AKMU (악뮤) - 어떻게 이별까지 사랑하겠어, 널 사랑하는 거지\n",
      " 90위 주호 - 그 하루(feat.반하나)\n",
      " 91위 BE'O (비오) - Counting Stars (Feat. Beenzino)\n",
      " 92위 볼빨간사춘기 - Love story\n",
      " 93위 헤이즈 (Heize) - 헤픈 우연\n",
      " 94위 오마이걸 (OH MY GIRL) - Dun Dun Dance\n",
      " 95위 볼빨간사춘기 - Seoul\n",
      " 96위 #안녕 - 해요 (2022)\n",
      " 97위 이무진 - 참고사항\n",
      " 98위 GOT the beat - Step Back\n",
      " 99위 aespa - Life′s Too Short (English Ver.)\n",
      "100위 싸이 (PSY) - Celeb\n"
     ]
    }
   ],
   "source": [
    "for i in range(len(titles)):\n",
    "    title = titles[i].text.strip()\n",
    "    artist = artists[i].text.strip().split('\\n')[0] \n",
    "    # text를 가져와서 앞뒤 공백삭제, \n",
    "    # 엔터친 것을 기준으로 split하고 0,1번이 있을 때 앞 부분만 가져옴\n",
    "    data = '{0:3d}위 {1} - {2}'.format(i+1, artist, title)\n",
    "    print(data)"
   ]
  },
  {
   "cell_type": "markdown",
   "id": "bf5385e8",
   "metadata": {},
   "source": [
    "## 2-5. 지니차트 200"
   ]
  },
  {
   "cell_type": "code",
   "execution_count": 47,
   "id": "ee4c4df7",
   "metadata": {},
   "outputs": [],
   "source": [
    "url = 'https://www.genie.co.kr/chart/top200?ditc=D&ymd=20220627&hh=21&rtm=Y&pg='\n",
    "for i in range(1,5):\n",
    "    site = '{}[{}'.format(url,i)\n",
    "    # print(site)"
   ]
  },
  {
   "cell_type": "code",
   "execution_count": 50,
   "id": "dea37281",
   "metadata": {},
   "outputs": [],
   "source": [
    "import time\n",
    "# User-Agent: Mozilla/5.0 (Windows NT 10.0; Win64; x64) AppleWebKit/537.36 (KHTML, like Gecko) Chrome/102.0.0.0 Safari/537.36\n",
    "header = {'User-Agent':'Mozilla/5.0 (Windows NT 10.0; Win64; x64)'}\n",
    "\n",
    "url = 'https://www.genie.co.kr/chart/top200?ditc=D&ymd=20220627&hh=21&rtm=Y&pg='\n",
    "for i in range(1,5):\n",
    "    site = '{}[{}'.format(url,i)\n",
    "    request = requests.get(url, headers=header)\n",
    "    time.sleep(1) # 한 페이지를 다 요청 받고 다음 요청을 받기 위해\n",
    "    soup = BeautifulSoup(request.text)\n",
    "    \n",
    "    titles = soup.findAll('a', {'class':'title ellipsis'})\n",
    "    # print(titles)"
   ]
  },
  {
   "cell_type": "code",
   "execution_count": null,
   "id": "d2b8bd80",
   "metadata": {},
   "outputs": [],
   "source": []
  }
 ],
 "metadata": {
  "kernelspec": {
   "display_name": "Python 3 (ipykernel)",
   "language": "python",
   "name": "python3"
  },
  "language_info": {
   "codemirror_mode": {
    "name": "ipython",
    "version": 3
   },
   "file_extension": ".py",
   "mimetype": "text/x-python",
   "name": "python",
   "nbconvert_exporter": "python",
   "pygments_lexer": "ipython3",
   "version": "3.9.7"
  }
 },
 "nbformat": 4,
 "nbformat_minor": 5
}
